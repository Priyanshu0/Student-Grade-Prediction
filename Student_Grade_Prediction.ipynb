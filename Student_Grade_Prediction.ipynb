{
  "nbformat": 4,
  "nbformat_minor": 0,
  "metadata": {
    "colab": {
      "name": "Student Grade Prediction.ipynb",
      "provenance": []
    },
    "kernelspec": {
      "name": "python3",
      "display_name": "Python 3"
    }
  },
  "cells": [
    {
      "cell_type": "code",
      "metadata": {
        "id": "OcFetYSc_-Hm",
        "outputId": "c4003388-e8e5-4c5d-fdbe-1813805ba0e1",
        "colab": {
          "resources": {
            "http://localhost:8080/nbextensions/google.colab/files.js": {
              "data": "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",
              "ok": true,
              "headers": [
                [
                  "content-type",
                  "application/javascript"
                ]
              ],
              "status": 200,
              "status_text": ""
            }
          },
          "base_uri": "https://localhost:8080/",
          "height": 109
        }
      },
      "source": [
        "from google.colab import files\n",
        "files.upload()"
      ],
      "execution_count": null,
      "outputs": [
        {
          "output_type": "display_data",
          "data": {
            "text/html": [
              "\n",
              "     <input type=\"file\" id=\"files-d8c2ed8e-2c09-48d4-8651-ec8042135590\" name=\"files[]\" multiple disabled\n",
              "        style=\"border:none\" />\n",
              "     <output id=\"result-d8c2ed8e-2c09-48d4-8651-ec8042135590\">\n",
              "      Upload widget is only available when the cell has been executed in the\n",
              "      current browser session. Please rerun this cell to enable.\n",
              "      </output>\n",
              "      <script src=\"/nbextensions/google.colab/files.js\"></script> "
            ],
            "text/plain": [
              "<IPython.core.display.HTML object>"
            ]
          },
          "metadata": {
            "tags": []
          }
        },
        {
          "output_type": "stream",
          "text": [
            "Saving student-mat.csv to student-mat.csv\n"
          ],
          "name": "stdout"
        },
        {
          "output_type": "execute_result",
          "data": {
            "text/plain": [
              "{'student-mat.csv': b'school;sex;age;address;famsize;Pstatus;Medu;Fedu;Mjob;Fjob;reason;guardian;traveltime;studytime;failures;schoolsup;famsup;paid;activities;nursery;higher;internet;romantic;famrel;freetime;goout;Dalc;Walc;health;absences;G1;G2;G3\\n\"GP\";\"F\";18;\"U\";\"GT3\";\"A\";4;4;\"at_home\";\"teacher\";\"course\";\"mother\";2;2;0;\"yes\";\"no\";\"no\";\"no\";\"yes\";\"yes\";\"no\";\"no\";4;3;4;1;1;3;6;\"5\";\"6\";6\\n\"GP\";\"F\";17;\"U\";\"GT3\";\"T\";1;1;\"at_home\";\"other\";\"course\";\"father\";1;2;0;\"no\";\"yes\";\"no\";\"no\";\"no\";\"yes\";\"yes\";\"no\";5;3;3;1;1;3;4;\"5\";\"5\";6\\n\"GP\";\"F\";15;\"U\";\"LE3\";\"T\";1;1;\"at_home\";\"other\";\"other\";\"mother\";1;2;3;\"yes\";\"no\";\"yes\";\"no\";\"yes\";\"yes\";\"yes\";\"no\";4;3;2;2;3;3;10;\"7\";\"8\";10\\n\"GP\";\"F\";15;\"U\";\"GT3\";\"T\";4;2;\"health\";\"services\";\"home\";\"mother\";1;3;0;\"no\";\"yes\";\"yes\";\"yes\";\"yes\";\"yes\";\"yes\";\"yes\";3;2;2;1;1;5;2;\"15\";\"14\";15\\n\"GP\";\"F\";16;\"U\";\"GT3\";\"T\";3;3;\"other\";\"other\";\"home\";\"father\";1;2;0;\"no\";\"yes\";\"yes\";\"no\";\"yes\";\"yes\";\"no\";\"no\";4;3;2;1;2;5;4;\"6\";\"10\";10\\n\"GP\";\"M\";16;\"U\";\"LE3\";\"T\";4;3;\"services\";\"other\";\"reputation\";\"mother\";1;2;0;\"no\";\"yes\";\"yes\";\"yes\";\"yes\";\"yes\";\"yes\";\"no\";5;4;2;1;2;5;10;\"15\";\"15\";15\\n\"GP\";\"M\";16;\"U\";\"LE3\";\"T\";2;2;\"other\";\"other\";\"home\";\"mother\";1;2;0;\"no\";\"no\";\"no\";\"no\";\"yes\";\"yes\";\"yes\";\"no\";4;4;4;1;1;3;0;\"12\";\"12\";11\\n\"GP\";\"F\";17;\"U\";\"GT3\";\"A\";4;4;\"other\";\"teacher\";\"home\";\"mother\";2;2;0;\"yes\";\"yes\";\"no\";\"no\";\"yes\";\"yes\";\"no\";\"no\";4;1;4;1;1;1;6;\"6\";\"5\";6\\n\"GP\";\"M\";15;\"U\";\"LE3\";\"A\";3;2;\"services\";\"other\";\"home\";\"mother\";1;2;0;\"no\";\"yes\";\"yes\";\"no\";\"yes\";\"yes\";\"yes\";\"no\";4;2;2;1;1;1;0;\"16\";\"18\";19\\n\"GP\";\"M\";15;\"U\";\"GT3\";\"T\";3;4;\"other\";\"other\";\"home\";\"mother\";1;2;0;\"no\";\"yes\";\"yes\";\"yes\";\"yes\";\"yes\";\"yes\";\"no\";5;5;1;1;1;5;0;\"14\";\"15\";15\\n\"GP\";\"F\";15;\"U\";\"GT3\";\"T\";4;4;\"teacher\";\"health\";\"reputation\";\"mother\";1;2;0;\"no\";\"yes\";\"yes\";\"no\";\"yes\";\"yes\";\"yes\";\"no\";3;3;3;1;2;2;0;\"10\";\"8\";9\\n\"GP\";\"F\";15;\"U\";\"GT3\";\"T\";2;1;\"services\";\"other\";\"reputation\";\"father\";3;3;0;\"no\";\"yes\";\"no\";\"yes\";\"yes\";\"yes\";\"yes\";\"no\";5;2;2;1;1;4;4;\"10\";\"12\";12\\n\"GP\";\"M\";15;\"U\";\"LE3\";\"T\";4;4;\"health\";\"services\";\"course\";\"father\";1;1;0;\"no\";\"yes\";\"yes\";\"yes\";\"yes\";\"yes\";\"yes\";\"no\";4;3;3;1;3;5;2;\"14\";\"14\";14\\n\"GP\";\"M\";15;\"U\";\"GT3\";\"T\";4;3;\"teacher\";\"other\";\"course\";\"mother\";2;2;0;\"no\";\"yes\";\"yes\";\"no\";\"yes\";\"yes\";\"yes\";\"no\";5;4;3;1;2;3;2;\"10\";\"10\";11\\n\"GP\";\"M\";15;\"U\";\"GT3\";\"A\";2;2;\"other\";\"other\";\"home\";\"other\";1;3;0;\"no\";\"yes\";\"no\";\"no\";\"yes\";\"yes\";\"yes\";\"yes\";4;5;2;1;1;3;0;\"14\";\"16\";16\\n\"GP\";\"F\";16;\"U\";\"GT3\";\"T\";4;4;\"health\";\"other\";\"home\";\"mother\";1;1;0;\"no\";\"yes\";\"no\";\"no\";\"yes\";\"yes\";\"yes\";\"no\";4;4;4;1;2;2;4;\"14\";\"14\";14\\n\"GP\";\"F\";16;\"U\";\"GT3\";\"T\";4;4;\"services\";\"services\";\"reputation\";\"mother\";1;3;0;\"no\";\"yes\";\"yes\";\"yes\";\"yes\";\"yes\";\"yes\";\"no\";3;2;3;1;2;2;6;\"13\";\"14\";14\\n\"GP\";\"F\";16;\"U\";\"GT3\";\"T\";3;3;\"other\";\"other\";\"reputation\";\"mother\";3;2;0;\"yes\";\"yes\";\"no\";\"yes\";\"yes\";\"yes\";\"no\";\"no\";5;3;2;1;1;4;4;\"8\";\"10\";10\\n\"GP\";\"M\";17;\"U\";\"GT3\";\"T\";3;2;\"services\";\"services\";\"course\";\"mother\";1;1;3;\"no\";\"yes\";\"no\";\"yes\";\"yes\";\"yes\";\"yes\";\"no\";5;5;5;2;4;5;16;\"6\";\"5\";5\\n\"GP\";\"M\";16;\"U\";\"LE3\";\"T\";4;3;\"health\";\"other\";\"home\";\"father\";1;1;0;\"no\";\"no\";\"yes\";\"yes\";\"yes\";\"yes\";\"yes\";\"no\";3;1;3;1;3;5;4;\"8\";\"10\";10\\n\"GP\";\"M\";15;\"U\";\"GT3\";\"T\";4;3;\"teacher\";\"other\";\"reputation\";\"mother\";1;2;0;\"no\";\"no\";\"no\";\"no\";\"yes\";\"yes\";\"yes\";\"no\";4;4;1;1;1;1;0;\"13\";\"14\";15\\n\"GP\";\"M\";15;\"U\";\"GT3\";\"T\";4;4;\"health\";\"health\";\"other\";\"father\";1;1;0;\"no\";\"yes\";\"yes\";\"no\";\"yes\";\"yes\";\"yes\";\"no\";5;4;2;1;1;5;0;\"12\";\"15\";15\\n\"GP\";\"M\";16;\"U\";\"LE3\";\"T\";4;2;\"teacher\";\"other\";\"course\";\"mother\";1;2;0;\"no\";\"no\";\"no\";\"yes\";\"yes\";\"yes\";\"yes\";\"no\";4;5;1;1;3;5;2;\"15\";\"15\";16\\n\"GP\";\"M\";16;\"U\";\"LE3\";\"T\";2;2;\"other\";\"other\";\"reputation\";\"mother\";2;2;0;\"no\";\"yes\";\"no\";\"yes\";\"yes\";\"yes\";\"yes\";\"no\";5;4;4;2;4;5;0;\"13\";\"13\";12\\n\"GP\";\"F\";15;\"R\";\"GT3\";\"T\";2;4;\"services\";\"health\";\"course\";\"mother\";1;3;0;\"yes\";\"yes\";\"yes\";\"yes\";\"yes\";\"yes\";\"yes\";\"no\";4;3;2;1;1;5;2;\"10\";\"9\";8\\n\"GP\";\"F\";16;\"U\";\"GT3\";\"T\";2;2;\"services\";\"services\";\"home\";\"mother\";1;1;2;\"no\";\"yes\";\"yes\";\"no\";\"no\";\"yes\";\"yes\";\"no\";1;2;2;1;3;5;14;\"6\";\"9\";8\\n\"GP\";\"M\";15;\"U\";\"GT3\";\"T\";2;2;\"other\";\"other\";\"home\";\"mother\";1;1;0;\"no\";\"yes\";\"yes\";\"no\";\"yes\";\"yes\";\"yes\";\"no\";4;2;2;1;2;5;2;\"12\";\"12\";11\\n\"GP\";\"M\";15;\"U\";\"GT3\";\"T\";4;2;\"health\";\"services\";\"other\";\"mother\";1;1;0;\"no\";\"no\";\"yes\";\"no\";\"yes\";\"yes\";\"yes\";\"no\";2;2;4;2;4;1;4;\"15\";\"16\";15\\n\"GP\";\"M\";16;\"U\";\"LE3\";\"A\";3;4;\"services\";\"other\";\"home\";\"mother\";1;2;0;\"yes\";\"yes\";\"no\";\"yes\";\"yes\";\"yes\";\"yes\";\"no\";5;3;3;1;1;5;4;\"11\";\"11\";11\\n\"GP\";\"M\";16;\"U\";\"GT3\";\"T\";4;4;\"teacher\";\"teacher\";\"home\";\"mother\";1;2;0;\"no\";\"yes\";\"yes\";\"yes\";\"yes\";\"yes\";\"yes\";\"yes\";4;4;5;5;5;5;16;\"10\";\"12\";11\\n\"GP\";\"M\";15;\"U\";\"GT3\";\"T\";4;4;\"health\";\"services\";\"home\";\"mother\";1;2;0;\"no\";\"yes\";\"yes\";\"no\";\"no\";\"yes\";\"yes\";\"no\";5;4;2;3;4;5;0;\"9\";\"11\";12\\n\"GP\";\"M\";15;\"U\";\"GT3\";\"T\";4;4;\"services\";\"services\";\"reputation\";\"mother\";2;2;0;\"no\";\"yes\";\"no\";\"yes\";\"yes\";\"yes\";\"yes\";\"no\";4;3;1;1;1;5;0;\"17\";\"16\";17\\n\"GP\";\"M\";15;\"R\";\"GT3\";\"T\";4;3;\"teacher\";\"at_home\";\"course\";\"mother\";1;2;0;\"no\";\"yes\";\"no\";\"yes\";\"yes\";\"yes\";\"yes\";\"yes\";4;5;2;1;1;5;0;\"17\";\"16\";16\\n\"GP\";\"M\";15;\"U\";\"LE3\";\"T\";3;3;\"other\";\"other\";\"course\";\"mother\";1;2;0;\"no\";\"no\";\"no\";\"yes\";\"no\";\"yes\";\"yes\";\"no\";5;3;2;1;1;2;0;\"8\";\"10\";12\\n\"GP\";\"M\";16;\"U\";\"GT3\";\"T\";3;2;\"other\";\"other\";\"home\";\"mother\";1;1;0;\"no\";\"yes\";\"yes\";\"no\";\"no\";\"yes\";\"yes\";\"no\";5;4;3;1;1;5;0;\"12\";\"14\";15\\n\"GP\";\"F\";15;\"U\";\"GT3\";\"T\";2;3;\"other\";\"other\";\"other\";\"father\";2;1;0;\"no\";\"yes\";\"no\";\"yes\";\"yes\";\"yes\";\"no\";\"no\";3;5;1;1;1;5;0;\"8\";\"7\";6\\n\"GP\";\"M\";15;\"U\";\"LE3\";\"T\";4;3;\"teacher\";\"services\";\"home\";\"mother\";1;3;0;\"no\";\"yes\";\"no\";\"yes\";\"yes\";\"yes\";\"yes\";\"no\";5;4;3;1;1;4;2;\"15\";\"16\";18\\n\"GP\";\"M\";16;\"R\";\"GT3\";\"A\";4;4;\"other\";\"teacher\";\"reputation\";\"mother\";2;3;0;\"no\";\"yes\";\"no\";\"yes\";\"yes\";\"yes\";\"yes\";\"yes\";2;4;3;1;1;5;7;\"15\";\"16\";15\\n\"GP\";\"F\";15;\"R\";\"GT3\";\"T\";3;4;\"services\";\"health\";\"course\";\"mother\";1;3;0;\"yes\";\"yes\";\"yes\";\"yes\";\"yes\";\"yes\";\"yes\";\"no\";4;3;2;1;1;5;2;\"12\";\"12\";11\\n\"GP\";\"F\";15;\"R\";\"GT3\";\"T\";2;2;\"at_home\";\"other\";\"reputation\";\"mother\";1;1;0;\"yes\";\"yes\";\"yes\";\"yes\";\"yes\";\"yes\";\"no\";\"no\";4;3;1;1;1;2;8;\"14\";\"13\";13\\n\"GP\";\"F\";16;\"U\";\"LE3\";\"T\";2;2;\"other\";\"other\";\"home\";\"mother\";2;2;1;\"no\";\"yes\";\"no\";\"yes\";\"no\";\"yes\";\"yes\";\"yes\";3;3;3;1;2;3;25;\"7\";\"10\";11\\n\"GP\";\"M\";15;\"U\";\"LE3\";\"T\";4;4;\"teacher\";\"other\";\"home\";\"other\";1;1;0;\"no\";\"yes\";\"no\";\"no\";\"no\";\"yes\";\"yes\";\"yes\";5;4;3;2;4;5;8;\"12\";\"12\";12\\n\"GP\";\"M\";15;\"U\";\"GT3\";\"T\";4;4;\"services\";\"teacher\";\"course\";\"father\";1;2;0;\"no\";\"yes\";\"no\";\"yes\";\"yes\";\"yes\";\"yes\";\"no\";4;3;3;1;1;5;2;\"19\";\"18\";18\\n\"GP\";\"M\";15;\"U\";\"GT3\";\"T\";2;2;\"services\";\"services\";\"course\";\"father\";1;1;0;\"yes\";\"yes\";\"no\";\"no\";\"yes\";\"yes\";\"yes\";\"no\";5;4;1;1;1;1;0;\"8\";\"8\";11\\n\"GP\";\"F\";16;\"U\";\"LE3\";\"T\";2;2;\"other\";\"at_home\";\"course\";\"father\";2;2;1;\"yes\";\"no\";\"no\";\"yes\";\"yes\";\"yes\";\"yes\";\"no\";4;3;3;2;2;5;14;\"10\";\"10\";9\\n\"GP\";\"F\";15;\"U\";\"LE3\";\"A\";4;3;\"other\";\"other\";\"course\";\"mother\";1;2;0;\"yes\";\"yes\";\"yes\";\"yes\";\"yes\";\"yes\";\"yes\";\"yes\";5;2;2;1;1;5;8;\"8\";\"8\";6\\n\"GP\";\"F\";16;\"U\";\"LE3\";\"A\";3;3;\"other\";\"services\";\"home\";\"mother\";1;2;0;\"no\";\"yes\";\"no\";\"no\";\"yes\";\"yes\";\"yes\";\"no\";2;3;5;1;4;3;12;\"11\";\"12\";11\\n\"GP\";\"M\";16;\"U\";\"GT3\";\"T\";4;3;\"health\";\"services\";\"reputation\";\"mother\";1;4;0;\"no\";\"no\";\"no\";\"yes\";\"yes\";\"yes\";\"yes\";\"no\";4;2;2;1;1;2;4;\"19\";\"19\";20\\n\"GP\";\"M\";15;\"U\";\"GT3\";\"T\";4;2;\"teacher\";\"other\";\"home\";\"mother\";1;2;0;\"no\";\"yes\";\"yes\";\"no\";\"yes\";\"yes\";\"no\";\"no\";4;3;3;2;2;5;2;\"15\";\"15\";14\\n\"GP\";\"F\";15;\"U\";\"GT3\";\"T\";4;4;\"services\";\"teacher\";\"other\";\"father\";1;2;1;\"yes\";\"yes\";\"no\";\"yes\";\"no\";\"yes\";\"yes\";\"no\";4;4;4;1;1;3;2;\"7\";\"7\";7\\n\"GP\";\"F\";16;\"U\";\"LE3\";\"T\";2;2;\"services\";\"services\";\"course\";\"mother\";3;2;0;\"no\";\"yes\";\"yes\";\"no\";\"yes\";\"yes\";\"yes\";\"no\";4;3;3;2;3;4;2;\"12\";\"13\";13\\n\"GP\";\"F\";15;\"U\";\"LE3\";\"T\";4;2;\"health\";\"other\";\"other\";\"mother\";1;2;0;\"no\";\"yes\";\"yes\";\"no\";\"yes\";\"yes\";\"yes\";\"no\";4;3;3;1;1;5;2;\"11\";\"13\";13\\n\"GP\";\"M\";15;\"U\";\"LE3\";\"A\";4;2;\"health\";\"health\";\"other\";\"father\";2;1;1;\"no\";\"no\";\"no\";\"no\";\"yes\";\"yes\";\"no\";\"no\";5;5;5;3;4;5;6;\"11\";\"11\";10\\n\"GP\";\"F\";15;\"U\";\"GT3\";\"T\";4;4;\"services\";\"services\";\"course\";\"mother\";1;1;0;\"yes\";\"yes\";\"yes\";\"no\";\"yes\";\"yes\";\"yes\";\"no\";3;3;4;2;3;5;0;\"8\";\"10\";11\\n\"GP\";\"F\";15;\"U\";\"LE3\";\"A\";3;3;\"other\";\"other\";\"other\";\"mother\";1;1;0;\"no\";\"no\";\"yes\";\"no\";\"yes\";\"yes\";\"yes\";\"no\";5;3;4;4;4;1;6;\"10\";\"13\";13\\n\"GP\";\"F\";16;\"U\";\"GT3\";\"A\";2;1;\"other\";\"other\";\"other\";\"mother\";1;2;0;\"no\";\"no\";\"yes\";\"yes\";\"yes\";\"yes\";\"yes\";\"yes\";5;3;4;1;1;2;8;\"8\";\"9\";10\\n\"GP\";\"F\";15;\"U\";\"GT3\";\"A\";4;3;\"services\";\"services\";\"reputation\";\"mother\";1;2;0;\"no\";\"yes\";\"yes\";\"yes\";\"yes\";\"yes\";\"yes\";\"no\";4;3;2;1;1;1;0;\"14\";\"15\";15\\n\"GP\";\"M\";15;\"U\";\"GT3\";\"T\";4;4;\"teacher\";\"health\";\"reputation\";\"mother\";1;2;0;\"no\";\"yes\";\"no\";\"yes\";\"yes\";\"yes\";\"no\";\"no\";3;2;2;1;1;5;4;\"14\";\"15\";15\\n\"GP\";\"M\";15;\"U\";\"LE3\";\"T\";1;2;\"other\";\"at_home\";\"home\";\"father\";1;2;0;\"yes\";\"yes\";\"no\";\"yes\";\"yes\";\"yes\";\"yes\";\"no\";4;3;2;1;1;5;2;\"9\";\"10\";9\\n\"GP\";\"F\";16;\"U\";\"GT3\";\"T\";4;2;\"services\";\"other\";\"course\";\"mother\";1;2;0;\"no\";\"yes\";\"no\";\"no\";\"yes\";\"yes\";\"yes\";\"no\";4;2;3;1;1;5;2;\"15\";\"16\";16\\n\"GP\";\"F\";16;\"R\";\"GT3\";\"T\";4;4;\"health\";\"teacher\";\"other\";\"mother\";1;2;0;\"no\";\"yes\";\"no\";\"yes\";\"yes\";\"yes\";\"no\";\"no\";2;4;4;2;3;4;6;\"10\";\"11\";11\\n\"GP\";\"F\";16;\"U\";\"GT3\";\"T\";1;1;\"services\";\"services\";\"course\";\"father\";4;1;0;\"yes\";\"yes\";\"no\";\"yes\";\"no\";\"yes\";\"yes\";\"yes\";5;5;5;5;5;5;6;\"10\";\"8\";11\\n\"GP\";\"F\";16;\"U\";\"LE3\";\"T\";1;2;\"other\";\"services\";\"reputation\";\"father\";1;2;0;\"yes\";\"no\";\"no\";\"yes\";\"yes\";\"yes\";\"yes\";\"no\";4;4;3;1;1;1;4;\"8\";\"10\";9\\n\"GP\";\"F\";16;\"U\";\"GT3\";\"T\";4;3;\"teacher\";\"health\";\"home\";\"mother\";1;3;0;\"yes\";\"yes\";\"yes\";\"yes\";\"yes\";\"yes\";\"yes\";\"no\";3;4;4;2;4;4;2;\"10\";\"9\";9\\n\"GP\";\"F\";15;\"U\";\"LE3\";\"T\";4;3;\"services\";\"services\";\"reputation\";\"father\";1;2;0;\"yes\";\"no\";\"no\";\"yes\";\"yes\";\"yes\";\"yes\";\"yes\";4;4;4;2;4;2;0;\"10\";\"10\";10\\n\"GP\";\"F\";16;\"U\";\"LE3\";\"T\";4;3;\"teacher\";\"services\";\"course\";\"mother\";3;2;0;\"no\";\"yes\";\"no\";\"yes\";\"yes\";\"yes\";\"yes\";\"no\";5;4;3;1;2;1;2;\"16\";\"15\";15\\n\"GP\";\"M\";15;\"U\";\"GT3\";\"A\";4;4;\"other\";\"services\";\"reputation\";\"mother\";1;4;0;\"no\";\"yes\";\"no\";\"yes\";\"no\";\"yes\";\"yes\";\"yes\";1;3;3;5;5;3;4;\"13\";\"13\";12\\n\"GP\";\"F\";16;\"U\";\"GT3\";\"T\";3;1;\"services\";\"other\";\"course\";\"mother\";1;4;0;\"yes\";\"yes\";\"yes\";\"no\";\"yes\";\"yes\";\"yes\";\"no\";4;3;3;1;2;5;4;\"7\";\"7\";6\\n\"GP\";\"F\";15;\"R\";\"LE3\";\"T\";2;2;\"health\";\"services\";\"reputation\";\"mother\";2;2;0;\"yes\";\"yes\";\"yes\";\"no\";\"yes\";\"yes\";\"yes\";\"no\";4;1;3;1;3;4;2;\"8\";\"9\";8\\n\"GP\";\"F\";15;\"R\";\"LE3\";\"T\";3;1;\"other\";\"other\";\"reputation\";\"father\";2;4;0;\"no\";\"yes\";\"no\";\"no\";\"no\";\"yes\";\"yes\";\"no\";4;4;2;2;3;3;12;\"16\";\"16\";16\\n\"GP\";\"M\";16;\"U\";\"GT3\";\"T\";3;1;\"other\";\"other\";\"reputation\";\"father\";2;4;0;\"no\";\"yes\";\"yes\";\"no\";\"yes\";\"yes\";\"yes\";\"no\";4;3;2;1;1;5;0;\"13\";\"15\";15\\n\"GP\";\"M\";15;\"U\";\"GT3\";\"T\";4;2;\"other\";\"other\";\"course\";\"mother\";1;4;0;\"no\";\"no\";\"no\";\"no\";\"yes\";\"yes\";\"yes\";\"no\";3;3;3;1;1;3;0;\"10\";\"10\";10\\n\"GP\";\"F\";15;\"R\";\"GT3\";\"T\";1;1;\"other\";\"other\";\"reputation\";\"mother\";1;2;2;\"yes\";\"yes\";\"no\";\"no\";\"no\";\"yes\";\"yes\";\"yes\";3;3;4;2;4;5;2;\"8\";\"6\";5\\n\"GP\";\"M\";16;\"U\";\"GT3\";\"T\";3;1;\"other\";\"other\";\"reputation\";\"mother\";1;1;0;\"no\";\"no\";\"no\";\"yes\";\"yes\";\"yes\";\"no\";\"no\";5;3;2;2;2;5;2;\"12\";\"12\";14\\n\"GP\";\"F\";16;\"U\";\"GT3\";\"T\";3;3;\"other\";\"services\";\"home\";\"mother\";1;2;0;\"yes\";\"yes\";\"yes\";\"yes\";\"yes\";\"yes\";\"yes\";\"no\";4;3;3;2;4;5;54;\"11\";\"12\";11\\n\"GP\";\"M\";15;\"U\";\"GT3\";\"T\";4;3;\"teacher\";\"other\";\"home\";\"mother\";1;2;0;\"no\";\"yes\";\"yes\";\"yes\";\"yes\";\"yes\";\"yes\";\"no\";4;3;3;2;3;5;6;\"9\";\"9\";10\\n\"GP\";\"M\";15;\"U\";\"GT3\";\"T\";4;0;\"teacher\";\"other\";\"course\";\"mother\";2;4;0;\"no\";\"no\";\"no\";\"yes\";\"yes\";\"yes\";\"yes\";\"no\";3;4;3;1;1;1;8;\"11\";\"11\";10\\n\"GP\";\"F\";16;\"U\";\"GT3\";\"T\";2;2;\"other\";\"other\";\"reputation\";\"mother\";1;4;0;\"no\";\"no\";\"yes\";\"no\";\"yes\";\"yes\";\"yes\";\"yes\";5;2;3;1;3;3;0;\"11\";\"11\";11\\n\"GP\";\"M\";17;\"U\";\"GT3\";\"T\";2;1;\"other\";\"other\";\"home\";\"mother\";2;1;3;\"yes\";\"yes\";\"no\";\"yes\";\"yes\";\"no\";\"yes\";\"no\";4;5;1;1;1;3;2;\"8\";\"8\";10\\n\"GP\";\"F\";16;\"U\";\"GT3\";\"T\";3;4;\"at_home\";\"other\";\"course\";\"mother\";1;2;0;\"no\";\"yes\";\"no\";\"no\";\"yes\";\"yes\";\"yes\";\"no\";2;4;3;1;2;3;12;\"5\";\"5\";5\\n\"GP\";\"M\";15;\"U\";\"GT3\";\"T\";2;3;\"other\";\"services\";\"course\";\"father\";1;1;0;\"yes\";\"yes\";\"yes\";\"yes\";\"no\";\"yes\";\"yes\";\"yes\";3;2;2;1;3;3;2;\"10\";\"12\";12\\n\"GP\";\"M\";15;\"U\";\"GT3\";\"T\";2;3;\"other\";\"other\";\"home\";\"mother\";1;3;0;\"yes\";\"no\";\"yes\";\"no\";\"no\";\"yes\";\"yes\";\"no\";5;3;2;1;2;5;4;\"11\";\"10\";11\\n\"GP\";\"F\";15;\"U\";\"LE3\";\"T\";3;2;\"services\";\"other\";\"reputation\";\"mother\";1;2;0;\"no\";\"yes\";\"yes\";\"no\";\"yes\";\"yes\";\"yes\";\"no\";4;4;4;1;1;5;10;\"7\";\"6\";6\\n\"GP\";\"M\";15;\"U\";\"LE3\";\"T\";2;2;\"services\";\"services\";\"home\";\"mother\";2;2;0;\"no\";\"no\";\"yes\";\"yes\";\"yes\";\"yes\";\"yes\";\"no\";5;3;3;1;3;4;4;\"15\";\"15\";15\\n\"GP\";\"F\";15;\"U\";\"GT3\";\"T\";1;1;\"other\";\"other\";\"home\";\"father\";1;2;0;\"no\";\"yes\";\"no\";\"yes\";\"no\";\"yes\";\"yes\";\"no\";4;3;2;2;3;4;2;\"9\";\"10\";10\\n\"GP\";\"F\";15;\"U\";\"GT3\";\"T\";4;4;\"services\";\"services\";\"reputation\";\"father\";2;2;2;\"no\";\"no\";\"yes\";\"no\";\"yes\";\"yes\";\"yes\";\"yes\";4;4;4;2;3;5;6;\"7\";\"9\";8\\n\"GP\";\"F\";16;\"U\";\"LE3\";\"T\";2;2;\"at_home\";\"other\";\"course\";\"mother\";1;2;0;\"no\";\"yes\";\"no\";\"no\";\"yes\";\"yes\";\"no\";\"no\";4;3;4;1;2;2;4;\"8\";\"7\";6\\n\"GP\";\"F\";15;\"U\";\"GT3\";\"T\";4;2;\"other\";\"other\";\"reputation\";\"mother\";1;3;0;\"no\";\"yes\";\"no\";\"yes\";\"yes\";\"yes\";\"yes\";\"no\";5;3;3;1;3;1;4;\"13\";\"14\";14\\n\"GP\";\"M\";16;\"U\";\"GT3\";\"T\";2;2;\"services\";\"other\";\"reputation\";\"father\";2;2;1;\"no\";\"no\";\"yes\";\"yes\";\"no\";\"yes\";\"yes\";\"no\";4;4;2;1;1;3;12;\"11\";\"10\";10\\n\"GP\";\"M\";16;\"U\";\"LE3\";\"A\";4;4;\"teacher\";\"health\";\"reputation\";\"mother\";1;2;0;\"no\";\"yes\";\"no\";\"no\";\"yes\";\"yes\";\"no\";\"no\";4;1;3;3;5;5;18;\"8\";\"6\";7\\n\"GP\";\"F\";16;\"U\";\"GT3\";\"T\";3;3;\"other\";\"other\";\"home\";\"mother\";1;3;0;\"no\";\"yes\";\"yes\";\"no\";\"yes\";\"yes\";\"yes\";\"yes\";4;3;3;1;3;4;0;\"7\";\"7\";8\\n\"GP\";\"F\";15;\"U\";\"GT3\";\"T\";4;3;\"services\";\"other\";\"reputation\";\"mother\";1;1;0;\"no\";\"no\";\"yes\";\"yes\";\"yes\";\"yes\";\"yes\";\"no\";4;5;5;1;3;1;4;\"16\";\"17\";18\\n\"GP\";\"F\";16;\"U\";\"LE3\";\"T\";3;1;\"other\";\"other\";\"home\";\"father\";1;2;0;\"yes\";\"yes\";\"no\";\"no\";\"yes\";\"yes\";\"no\";\"no\";3;3;3;2;3;2;4;\"7\";\"6\";6\\n\"GP\";\"F\";16;\"U\";\"GT3\";\"T\";4;2;\"teacher\";\"services\";\"home\";\"mother\";2;2;0;\"no\";\"yes\";\"yes\";\"yes\";\"yes\";\"yes\";\"yes\";\"no\";5;3;3;1;1;1;0;\"11\";\"10\";10\\n\"GP\";\"M\";15;\"U\";\"LE3\";\"T\";2;2;\"services\";\"health\";\"reputation\";\"mother\";1;4;0;\"no\";\"yes\";\"no\";\"yes\";\"yes\";\"yes\";\"yes\";\"no\";4;3;4;1;1;4;6;\"11\";\"13\";14\\n\"GP\";\"F\";15;\"R\";\"GT3\";\"T\";1;1;\"at_home\";\"other\";\"home\";\"mother\";2;4;1;\"yes\";\"yes\";\"yes\";\"yes\";\"yes\";\"yes\";\"yes\";\"no\";3;1;2;1;1;1;2;\"7\";\"10\";10\\n\"GP\";\"M\";16;\"R\";\"GT3\";\"T\";4;3;\"services\";\"other\";\"reputation\";\"mother\";2;1;0;\"yes\";\"yes\";\"no\";\"yes\";\"no\";\"yes\";\"yes\";\"no\";3;3;3;1;1;4;2;\"11\";\"15\";15\\n\"GP\";\"F\";16;\"U\";\"GT3\";\"T\";2;1;\"other\";\"other\";\"course\";\"mother\";1;2;0;\"no\";\"yes\";\"yes\";\"no\";\"yes\";\"yes\";\"no\";\"yes\";4;3;5;1;1;5;2;\"8\";\"9\";10\\n\"GP\";\"F\";16;\"U\";\"GT3\";\"T\";4;4;\"other\";\"other\";\"reputation\";\"mother\";1;1;0;\"no\";\"no\";\"no\";\"yes\";\"no\";\"yes\";\"yes\";\"no\";5;3;4;1;2;1;6;\"11\";\"14\";14\\n\"GP\";\"F\";16;\"U\";\"GT3\";\"T\";4;3;\"other\";\"at_home\";\"course\";\"mother\";1;3;0;\"yes\";\"yes\";\"yes\";\"no\";\"yes\";\"yes\";\"yes\";\"no\";5;3;5;1;1;3;0;\"7\";\"9\";8\\n\"GP\";\"M\";16;\"U\";\"GT3\";\"T\";4;4;\"services\";\"services\";\"other\";\"mother\";1;1;0;\"yes\";\"yes\";\"yes\";\"yes\";\"yes\";\"yes\";\"yes\";\"no\";4;5;5;5;5;4;14;\"7\";\"7\";5\\n\"GP\";\"M\";16;\"U\";\"GT3\";\"T\";4;4;\"services\";\"teacher\";\"other\";\"father\";1;3;0;\"no\";\"yes\";\"no\";\"yes\";\"yes\";\"yes\";\"yes\";\"yes\";4;4;3;1;1;4;0;\"16\";\"17\";17\\n\"GP\";\"M\";15;\"U\";\"GT3\";\"T\";4;4;\"services\";\"other\";\"course\";\"mother\";1;1;0;\"no\";\"yes\";\"no\";\"yes\";\"no\";\"yes\";\"yes\";\"no\";5;3;3;1;1;5;4;\"10\";\"13\";14\\n\"GP\";\"F\";15;\"U\";\"GT3\";\"T\";3;2;\"services\";\"other\";\"home\";\"mother\";2;2;0;\"yes\";\"yes\";\"yes\";\"no\";\"yes\";\"yes\";\"yes\";\"no\";4;3;5;1;1;2;26;\"7\";\"6\";6\\n\"GP\";\"M\";15;\"U\";\"GT3\";\"A\";3;4;\"services\";\"other\";\"course\";\"mother\";1;2;0;\"no\";\"yes\";\"yes\";\"yes\";\"yes\";\"yes\";\"yes\";\"no\";5;4;4;1;1;1;0;\"16\";\"18\";18\\n\"GP\";\"F\";15;\"U\";\"GT3\";\"A\";3;3;\"other\";\"health\";\"reputation\";\"father\";1;4;0;\"yes\";\"no\";\"no\";\"no\";\"yes\";\"yes\";\"no\";\"no\";4;3;3;1;1;4;10;\"10\";\"11\";11\\n\"GP\";\"F\";15;\"U\";\"GT3\";\"T\";2;2;\"other\";\"other\";\"course\";\"mother\";1;4;0;\"yes\";\"yes\";\"yes\";\"no\";\"yes\";\"yes\";\"yes\";\"no\";5;1;2;1;1;3;8;\"7\";\"8\";8\\n\"GP\";\"M\";16;\"U\";\"GT3\";\"T\";3;3;\"services\";\"other\";\"home\";\"father\";1;3;0;\"no\";\"yes\";\"no\";\"yes\";\"yes\";\"yes\";\"yes\";\"no\";5;3;3;1;1;5;2;\"16\";\"18\";18\\n\"GP\";\"M\";15;\"R\";\"GT3\";\"T\";4;4;\"other\";\"other\";\"home\";\"father\";4;4;0;\"no\";\"yes\";\"yes\";\"yes\";\"yes\";\"yes\";\"yes\";\"yes\";1;3;5;3;5;1;6;\"10\";\"13\";13\\n\"GP\";\"F\";16;\"U\";\"LE3\";\"T\";4;4;\"health\";\"health\";\"other\";\"mother\";1;3;0;\"no\";\"yes\";\"yes\";\"yes\";\"yes\";\"yes\";\"yes\";\"yes\";5;4;5;1;1;4;4;\"14\";\"15\";16\\n\"GP\";\"M\";15;\"U\";\"LE3\";\"A\";4;4;\"teacher\";\"teacher\";\"course\";\"mother\";1;1;0;\"no\";\"no\";\"no\";\"yes\";\"yes\";\"yes\";\"yes\";\"no\";5;5;3;1;1;4;6;\"18\";\"19\";19\\n\"GP\";\"F\";16;\"R\";\"GT3\";\"T\";3;3;\"services\";\"other\";\"reputation\";\"father\";1;3;1;\"yes\";\"yes\";\"no\";\"yes\";\"yes\";\"yes\";\"yes\";\"no\";4;1;2;1;1;2;0;\"7\";\"10\";10\\n\"GP\";\"F\";16;\"U\";\"GT3\";\"T\";2;2;\"at_home\";\"other\";\"home\";\"mother\";1;2;1;\"yes\";\"no\";\"no\";\"yes\";\"yes\";\"yes\";\"yes\";\"no\";3;1;2;1;1;5;6;\"10\";\"13\";13\\n\"GP\";\"M\";15;\"U\";\"LE3\";\"T\";4;2;\"teacher\";\"other\";\"course\";\"mother\";1;1;0;\"no\";\"no\";\"no\";\"no\";\"yes\";\"yes\";\"yes\";\"no\";3;5;2;1;1;3;10;\"18\";\"19\";19\\n\"GP\";\"M\";15;\"R\";\"GT3\";\"T\";2;1;\"health\";\"services\";\"reputation\";\"mother\";1;2;0;\"no\";\"no\";\"no\";\"yes\";\"yes\";\"yes\";\"yes\";\"yes\";5;4;2;1;1;5;8;\"9\";\"9\";9\\n\"GP\";\"M\";16;\"U\";\"GT3\";\"T\";4;4;\"teacher\";\"teacher\";\"course\";\"father\";1;2;0;\"no\";\"yes\";\"no\";\"yes\";\"yes\";\"yes\";\"yes\";\"no\";5;4;4;1;2;5;2;\"15\";\"15\";16\\n\"GP\";\"M\";15;\"U\";\"GT3\";\"T\";4;4;\"other\";\"teacher\";\"reputation\";\"father\";2;2;0;\"no\";\"yes\";\"no\";\"yes\";\"yes\";\"yes\";\"no\";\"no\";4;4;3;1;1;2;2;\"11\";\"13\";14\\n\"GP\";\"M\";16;\"U\";\"GT3\";\"T\";3;3;\"other\";\"services\";\"home\";\"father\";2;1;0;\"no\";\"no\";\"no\";\"yes\";\"yes\";\"yes\";\"yes\";\"no\";5;4;2;1;1;5;0;\"13\";\"14\";13\\n\"GP\";\"M\";17;\"R\";\"GT3\";\"T\";1;3;\"other\";\"other\";\"course\";\"father\";3;2;1;\"no\";\"yes\";\"no\";\"yes\";\"yes\";\"yes\";\"yes\";\"no\";5;2;4;1;4;5;20;\"9\";\"7\";8\\n\"GP\";\"M\";15;\"U\";\"GT3\";\"T\";3;4;\"other\";\"other\";\"reputation\";\"father\";1;1;0;\"no\";\"no\";\"no\";\"no\";\"yes\";\"yes\";\"yes\";\"no\";3;4;3;1;2;4;6;\"14\";\"13\";13\\n\"GP\";\"F\";15;\"U\";\"GT3\";\"T\";1;2;\"at_home\";\"services\";\"course\";\"mother\";1;2;0;\"no\";\"no\";\"no\";\"no\";\"no\";\"yes\";\"yes\";\"no\";3;2;3;1;2;1;2;\"16\";\"15\";15\\n\"GP\";\"M\";15;\"U\";\"GT3\";\"T\";2;2;\"services\";\"services\";\"home\";\"father\";1;4;0;\"no\";\"yes\";\"yes\";\"yes\";\"yes\";\"yes\";\"yes\";\"no\";5;5;4;1;2;5;6;\"16\";\"14\";15\\n\"GP\";\"F\";16;\"U\";\"LE3\";\"T\";2;4;\"other\";\"health\";\"course\";\"father\";2;2;0;\"no\";\"yes\";\"yes\";\"yes\";\"yes\";\"yes\";\"yes\";\"yes\";4;2;2;1;2;5;2;\"13\";\"13\";13\\n\"GP\";\"M\";16;\"U\";\"GT3\";\"T\";4;4;\"health\";\"other\";\"course\";\"mother\";1;1;0;\"no\";\"yes\";\"no\";\"yes\";\"yes\";\"yes\";\"yes\";\"no\";3;4;4;1;4;5;18;\"14\";\"11\";13\\n\"GP\";\"F\";16;\"U\";\"GT3\";\"T\";2;2;\"other\";\"other\";\"home\";\"mother\";1;2;0;\"no\";\"no\";\"yes\";\"no\";\"yes\";\"yes\";\"yes\";\"yes\";5;4;4;1;1;5;0;\"8\";\"7\";8\\n\"GP\";\"M\";15;\"U\";\"GT3\";\"T\";3;4;\"services\";\"services\";\"home\";\"father\";1;1;0;\"yes\";\"no\";\"no\";\"no\";\"yes\";\"yes\";\"yes\";\"no\";5;5;5;3;2;5;0;\"13\";\"13\";12\\n\"GP\";\"F\";15;\"U\";\"LE3\";\"A\";3;4;\"other\";\"other\";\"home\";\"mother\";1;2;0;\"yes\";\"no\";\"no\";\"yes\";\"yes\";\"yes\";\"yes\";\"yes\";5;3;2;1;1;1;0;\"7\";\"10\";11\\n\"GP\";\"F\";19;\"U\";\"GT3\";\"T\";0;1;\"at_home\";\"other\";\"course\";\"other\";1;2;3;\"no\";\"yes\";\"no\";\"no\";\"no\";\"no\";\"no\";\"no\";3;4;2;1;1;5;2;\"7\";\"8\";9\\n\"GP\";\"M\";18;\"R\";\"GT3\";\"T\";2;2;\"services\";\"other\";\"reputation\";\"mother\";1;1;2;\"no\";\"yes\";\"no\";\"yes\";\"yes\";\"yes\";\"yes\";\"no\";3;3;3;1;2;4;0;\"7\";\"4\";0\\n\"GP\";\"M\";16;\"R\";\"GT3\";\"T\";4;4;\"teacher\";\"teacher\";\"course\";\"mother\";1;1;0;\"no\";\"no\";\"yes\";\"yes\";\"yes\";\"yes\";\"yes\";\"no\";3;5;5;2;5;4;8;\"18\";\"18\";18\\n\"GP\";\"F\";15;\"R\";\"GT3\";\"T\";3;4;\"services\";\"teacher\";\"course\";\"father\";2;3;2;\"no\";\"yes\";\"no\";\"no\";\"yes\";\"yes\";\"yes\";\"yes\";4;2;2;2;2;5;0;\"12\";\"0\";0\\n\"GP\";\"F\";15;\"U\";\"GT3\";\"T\";1;1;\"at_home\";\"other\";\"course\";\"mother\";3;1;0;\"no\";\"yes\";\"no\";\"yes\";\"no\";\"yes\";\"yes\";\"yes\";4;3;3;1;2;4;0;\"8\";\"0\";0\\n\"GP\";\"F\";17;\"U\";\"LE3\";\"T\";2;2;\"other\";\"other\";\"course\";\"father\";1;1;0;\"no\";\"yes\";\"no\";\"no\";\"yes\";\"yes\";\"yes\";\"yes\";3;4;4;1;3;5;12;\"10\";\"13\";12\\n\"GP\";\"F\";16;\"U\";\"GT3\";\"A\";3;4;\"services\";\"other\";\"course\";\"father\";1;1;0;\"no\";\"no\";\"no\";\"no\";\"yes\";\"yes\";\"yes\";\"no\";3;2;1;1;4;5;16;\"12\";\"11\";11\\n\"GP\";\"M\";15;\"R\";\"GT3\";\"T\";3;4;\"at_home\";\"teacher\";\"course\";\"mother\";4;2;0;\"no\";\"yes\";\"no\";\"no\";\"yes\";\"yes\";\"no\";\"yes\";5;3;3;1;1;5;0;\"9\";\"0\";0\\n\"GP\";\"F\";15;\"U\";\"GT3\";\"T\";4;4;\"services\";\"at_home\";\"course\";\"mother\";1;3;0;\"no\";\"yes\";\"no\";\"yes\";\"yes\";\"yes\";\"yes\";\"yes\";4;3;3;1;1;5;0;\"11\";\"0\";0\\n\"GP\";\"M\";17;\"R\";\"GT3\";\"T\";3;4;\"at_home\";\"other\";\"course\";\"mother\";3;2;0;\"no\";\"no\";\"no\";\"no\";\"yes\";\"yes\";\"no\";\"no\";5;4;5;2;4;5;0;\"10\";\"0\";0\\n\"GP\";\"F\";16;\"U\";\"GT3\";\"A\";3;3;\"other\";\"other\";\"course\";\"other\";2;1;2;\"no\";\"yes\";\"no\";\"yes\";\"no\";\"yes\";\"yes\";\"yes\";4;3;2;1;1;5;0;\"4\";\"0\";0\\n\"GP\";\"M\";16;\"U\";\"LE3\";\"T\";1;1;\"services\";\"other\";\"course\";\"mother\";1;2;1;\"no\";\"no\";\"no\";\"no\";\"yes\";\"yes\";\"no\";\"yes\";4;4;4;1;3;5;0;\"14\";\"12\";12\\n\"GP\";\"F\";15;\"U\";\"GT3\";\"T\";4;4;\"teacher\";\"teacher\";\"course\";\"mother\";2;1;0;\"no\";\"no\";\"no\";\"yes\";\"yes\";\"yes\";\"yes\";\"no\";4;3;2;1;1;5;0;\"16\";\"16\";15\\n\"GP\";\"M\";15;\"U\";\"GT3\";\"T\";4;3;\"teacher\";\"services\";\"course\";\"father\";2;4;0;\"yes\";\"yes\";\"no\";\"no\";\"yes\";\"yes\";\"yes\";\"no\";2;2;2;1;1;3;0;\"7\";\"9\";0\\n\"GP\";\"M\";16;\"U\";\"LE3\";\"T\";2;2;\"services\";\"services\";\"reputation\";\"father\";2;1;2;\"no\";\"yes\";\"no\";\"yes\";\"yes\";\"yes\";\"yes\";\"no\";2;3;3;2;2;2;8;\"9\";\"9\";9\\n\"GP\";\"F\";15;\"U\";\"GT3\";\"T\";4;4;\"teacher\";\"services\";\"course\";\"mother\";1;3;0;\"no\";\"yes\";\"yes\";\"yes\";\"yes\";\"yes\";\"yes\";\"no\";4;2;2;1;1;5;2;\"9\";\"11\";11\\n\"GP\";\"F\";16;\"U\";\"LE3\";\"T\";1;1;\"at_home\";\"at_home\";\"course\";\"mother\";1;1;0;\"no\";\"no\";\"no\";\"no\";\"yes\";\"yes\";\"yes\";\"no\";3;4;4;3;3;1;2;\"14\";\"14\";13\\n\"GP\";\"M\";17;\"U\";\"GT3\";\"T\";2;1;\"other\";\"other\";\"home\";\"mother\";1;1;3;\"no\";\"yes\";\"no\";\"no\";\"yes\";\"yes\";\"yes\";\"no\";5;4;5;1;2;5;0;\"5\";\"0\";0\\n\"GP\";\"F\";15;\"U\";\"GT3\";\"T\";1;1;\"other\";\"services\";\"course\";\"father\";1;2;0;\"no\";\"yes\";\"yes\";\"no\";\"yes\";\"yes\";\"yes\";\"no\";4;4;2;1;2;5;0;\"8\";\"11\";11\\n\"GP\";\"F\";15;\"U\";\"GT3\";\"T\";3;2;\"health\";\"services\";\"home\";\"father\";1;2;3;\"no\";\"yes\";\"no\";\"no\";\"yes\";\"yes\";\"yes\";\"no\";3;3;2;1;1;3;0;\"6\";\"7\";0\\n\"GP\";\"F\";15;\"U\";\"GT3\";\"T\";1;2;\"at_home\";\"other\";\"course\";\"mother\";1;2;0;\"no\";\"yes\";\"yes\";\"no\";\"no\";\"yes\";\"yes\";\"no\";4;3;2;1;1;5;2;\"10\";\"11\";11\\n\"GP\";\"M\";16;\"U\";\"GT3\";\"T\";4;4;\"teacher\";\"teacher\";\"course\";\"mother\";1;1;0;\"no\";\"yes\";\"no\";\"no\";\"yes\";\"no\";\"yes\";\"yes\";3;3;2;2;1;5;0;\"7\";\"6\";0\\n\"GP\";\"M\";15;\"U\";\"LE3\";\"A\";2;1;\"services\";\"other\";\"course\";\"mother\";4;1;3;\"no\";\"no\";\"no\";\"no\";\"yes\";\"yes\";\"yes\";\"no\";4;5;5;2;5;5;0;\"8\";\"9\";10\\n\"GP\";\"M\";18;\"U\";\"LE3\";\"T\";1;1;\"other\";\"other\";\"course\";\"mother\";1;1;3;\"no\";\"no\";\"no\";\"no\";\"yes\";\"no\";\"yes\";\"yes\";2;3;5;2;5;4;0;\"6\";\"5\";0\\n\"GP\";\"M\";16;\"U\";\"LE3\";\"T\";2;1;\"at_home\";\"other\";\"course\";\"mother\";1;1;1;\"no\";\"no\";\"no\";\"yes\";\"yes\";\"yes\";\"no\";\"yes\";4;4;4;3;5;5;6;\"12\";\"13\";14\\n\"GP\";\"F\";15;\"R\";\"GT3\";\"T\";3;3;\"services\";\"services\";\"reputation\";\"other\";2;3;2;\"no\";\"yes\";\"yes\";\"yes\";\"yes\";\"yes\";\"yes\";\"yes\";4;2;1;2;3;3;8;\"10\";\"10\";10\\n\"GP\";\"M\";19;\"U\";\"GT3\";\"T\";3;2;\"services\";\"at_home\";\"home\";\"mother\";1;1;3;\"no\";\"yes\";\"no\";\"no\";\"yes\";\"no\";\"yes\";\"yes\";4;5;4;1;1;4;0;\"5\";\"0\";0\\n\"GP\";\"F\";17;\"U\";\"GT3\";\"T\";4;4;\"other\";\"teacher\";\"course\";\"mother\";1;1;0;\"yes\";\"yes\";\"no\";\"no\";\"yes\";\"yes\";\"no\";\"yes\";4;2;1;1;1;4;0;\"11\";\"11\";12\\n\"GP\";\"M\";15;\"R\";\"GT3\";\"T\";2;3;\"at_home\";\"services\";\"course\";\"mother\";1;2;0;\"yes\";\"no\";\"yes\";\"yes\";\"yes\";\"yes\";\"no\";\"no\";4;4;4;1;1;1;2;\"11\";\"8\";8\\n\"GP\";\"M\";17;\"R\";\"LE3\";\"T\";1;2;\"other\";\"other\";\"reputation\";\"mother\";1;1;0;\"no\";\"no\";\"no\";\"no\";\"yes\";\"yes\";\"no\";\"no\";2;2;2;3;3;5;8;\"16\";\"12\";13\\n\"GP\";\"F\";18;\"R\";\"GT3\";\"T\";1;1;\"at_home\";\"other\";\"course\";\"mother\";3;1;3;\"no\";\"yes\";\"no\";\"yes\";\"no\";\"yes\";\"no\";\"no\";5;2;5;1;5;4;6;\"9\";\"8\";10\\n\"GP\";\"M\";16;\"R\";\"GT3\";\"T\";2;2;\"at_home\";\"other\";\"course\";\"mother\";3;1;0;\"no\";\"no\";\"no\";\"no\";\"no\";\"yes\";\"no\";\"no\";4;2;2;1;2;3;2;\"17\";\"15\";15\\n\"GP\";\"M\";16;\"U\";\"GT3\";\"T\";3;3;\"other\";\"services\";\"course\";\"father\";1;2;1;\"no\";\"yes\";\"yes\";\"no\";\"yes\";\"yes\";\"yes\";\"yes\";4;5;5;4;4;5;4;\"10\";\"12\";12\\n\"GP\";\"M\";17;\"R\";\"LE3\";\"T\";2;1;\"at_home\";\"other\";\"course\";\"mother\";2;1;2;\"no\";\"no\";\"no\";\"yes\";\"yes\";\"no\";\"yes\";\"yes\";3;3;2;2;2;5;0;\"7\";\"6\";0\\n\"GP\";\"M\";15;\"R\";\"GT3\";\"T\";3;2;\"other\";\"other\";\"course\";\"mother\";2;2;2;\"yes\";\"yes\";\"no\";\"no\";\"yes\";\"yes\";\"yes\";\"yes\";4;4;4;1;4;3;6;\"5\";\"9\";7\\n\"GP\";\"M\";16;\"U\";\"LE3\";\"T\";1;2;\"other\";\"other\";\"course\";\"mother\";2;1;1;\"no\";\"no\";\"no\";\"yes\";\"yes\";\"yes\";\"no\";\"no\";4;4;4;2;4;5;0;\"7\";\"0\";0\\n\"GP\";\"M\";17;\"U\";\"GT3\";\"T\";1;3;\"at_home\";\"services\";\"course\";\"father\";1;1;0;\"no\";\"no\";\"no\";\"no\";\"yes\";\"no\";\"yes\";\"no\";5;3;3;1;4;2;2;\"10\";\"10\";10\\n\"GP\";\"M\";17;\"R\";\"LE3\";\"T\";1;1;\"other\";\"services\";\"course\";\"mother\";4;2;3;\"no\";\"no\";\"no\";\"yes\";\"yes\";\"no\";\"no\";\"yes\";5;3;5;1;5;5;0;\"5\";\"8\";7\\n\"GP\";\"M\";16;\"U\";\"GT3\";\"T\";3;2;\"services\";\"services\";\"course\";\"mother\";2;1;1;\"no\";\"yes\";\"no\";\"yes\";\"no\";\"no\";\"no\";\"no\";4;5;2;1;1;2;16;\"12\";\"11\";12\\n\"GP\";\"M\";16;\"U\";\"GT3\";\"T\";2;2;\"other\";\"other\";\"course\";\"father\";1;2;0;\"no\";\"no\";\"no\";\"no\";\"yes\";\"no\";\"yes\";\"no\";4;3;5;2;4;4;4;\"10\";\"10\";10\\n\"GP\";\"F\";16;\"U\";\"GT3\";\"T\";4;2;\"health\";\"services\";\"home\";\"father\";1;2;0;\"no\";\"no\";\"yes\";\"no\";\"yes\";\"yes\";\"yes\";\"yes\";4;2;3;1;1;3;0;\"14\";\"15\";16\\n\"GP\";\"F\";16;\"U\";\"GT3\";\"T\";2;2;\"other\";\"other\";\"home\";\"mother\";1;2;0;\"no\";\"yes\";\"yes\";\"no\";\"no\";\"yes\";\"yes\";\"no\";5;1;5;1;1;4;0;\"6\";\"7\";0\\n\"GP\";\"F\";16;\"U\";\"GT3\";\"T\";4;4;\"health\";\"health\";\"reputation\";\"mother\";1;2;0;\"no\";\"yes\";\"yes\";\"no\";\"yes\";\"yes\";\"yes\";\"yes\";4;4;2;1;1;3;0;\"14\";\"14\";14\\n\"GP\";\"M\";16;\"U\";\"GT3\";\"T\";3;4;\"other\";\"other\";\"course\";\"father\";3;1;2;\"no\";\"yes\";\"no\";\"yes\";\"no\";\"yes\";\"yes\";\"no\";3;4;5;2;4;2;0;\"6\";\"5\";0\\n\"GP\";\"M\";16;\"U\";\"GT3\";\"T\";1;0;\"other\";\"other\";\"reputation\";\"mother\";2;2;0;\"no\";\"yes\";\"yes\";\"yes\";\"yes\";\"yes\";\"yes\";\"yes\";4;3;2;1;1;3;2;\"13\";\"15\";16\\n\"GP\";\"M\";17;\"U\";\"LE3\";\"T\";4;4;\"teacher\";\"other\";\"reputation\";\"mother\";1;2;0;\"no\";\"yes\";\"yes\";\"yes\";\"yes\";\"yes\";\"yes\";\"no\";4;4;4;1;3;5;0;\"13\";\"11\";10\\n\"GP\";\"F\";16;\"U\";\"GT3\";\"T\";1;3;\"at_home\";\"services\";\"home\";\"mother\";1;2;3;\"no\";\"no\";\"no\";\"yes\";\"no\";\"yes\";\"yes\";\"yes\";4;3;5;1;1;3;0;\"8\";\"7\";0\\n\"GP\";\"F\";16;\"U\";\"LE3\";\"T\";3;3;\"other\";\"other\";\"reputation\";\"mother\";2;2;0;\"no\";\"yes\";\"yes\";\"yes\";\"yes\";\"yes\";\"yes\";\"no\";4;4;5;1;1;4;4;\"10\";\"11\";9\\n\"GP\";\"M\";17;\"U\";\"LE3\";\"T\";4;3;\"teacher\";\"other\";\"course\";\"mother\";2;2;0;\"no\";\"no\";\"yes\";\"yes\";\"yes\";\"yes\";\"yes\";\"no\";4;4;4;4;4;4;4;\"10\";\"9\";9\\n\"GP\";\"F\";16;\"U\";\"GT3\";\"T\";2;2;\"services\";\"other\";\"reputation\";\"mother\";2;2;0;\"no\";\"no\";\"yes\";\"yes\";\"no\";\"yes\";\"yes\";\"no\";3;4;4;1;4;5;2;\"13\";\"13\";11\\n\"GP\";\"M\";17;\"U\";\"GT3\";\"T\";3;3;\"other\";\"other\";\"reputation\";\"father\";1;2;0;\"no\";\"no\";\"no\";\"yes\";\"no\";\"yes\";\"yes\";\"no\";4;3;4;1;4;4;4;\"6\";\"5\";6\\n\"GP\";\"M\";16;\"R\";\"GT3\";\"T\";4;2;\"teacher\";\"services\";\"other\";\"mother\";1;1;0;\"no\";\"yes\";\"no\";\"yes\";\"yes\";\"yes\";\"yes\";\"yes\";4;3;3;3;4;3;10;\"10\";\"8\";9\\n\"GP\";\"M\";17;\"U\";\"GT3\";\"T\";4;3;\"other\";\"other\";\"course\";\"mother\";1;2;0;\"no\";\"yes\";\"no\";\"yes\";\"yes\";\"yes\";\"yes\";\"yes\";5;2;3;1;1;2;4;\"10\";\"10\";11\\n\"GP\";\"M\";16;\"U\";\"GT3\";\"T\";4;3;\"teacher\";\"other\";\"home\";\"mother\";1;2;0;\"no\";\"yes\";\"yes\";\"yes\";\"yes\";\"yes\";\"yes\";\"no\";3;4;3;2;3;3;10;\"9\";\"8\";8\\n\"GP\";\"M\";16;\"U\";\"GT3\";\"T\";3;3;\"services\";\"other\";\"home\";\"mother\";1;2;0;\"no\";\"no\";\"yes\";\"yes\";\"yes\";\"yes\";\"yes\";\"yes\";4;2;3;1;2;3;2;\"12\";\"13\";12\\n\"GP\";\"F\";17;\"U\";\"GT3\";\"T\";2;4;\"services\";\"services\";\"reputation\";\"father\";1;2;0;\"no\";\"yes\";\"no\";\"yes\";\"yes\";\"yes\";\"no\";\"no\";5;4;2;2;3;5;0;\"16\";\"17\";17\\n\"GP\";\"F\";17;\"U\";\"LE3\";\"T\";3;3;\"other\";\"other\";\"reputation\";\"mother\";1;2;0;\"no\";\"yes\";\"no\";\"yes\";\"yes\";\"yes\";\"yes\";\"yes\";5;3;3;2;3;1;56;\"9\";\"9\";8\\n\"GP\";\"F\";16;\"U\";\"GT3\";\"T\";3;2;\"other\";\"other\";\"reputation\";\"mother\";1;2;0;\"no\";\"yes\";\"yes\";\"no\";\"yes\";\"yes\";\"yes\";\"no\";1;2;2;1;2;1;14;\"12\";\"13\";12\\n\"GP\";\"M\";17;\"U\";\"GT3\";\"T\";3;3;\"services\";\"services\";\"other\";\"mother\";1;2;0;\"no\";\"yes\";\"no\";\"yes\";\"yes\";\"yes\";\"yes\";\"yes\";4;3;4;2;3;4;12;\"12\";\"12\";11\\n\"GP\";\"M\";16;\"U\";\"GT3\";\"T\";1;2;\"services\";\"services\";\"other\";\"mother\";1;1;0;\"no\";\"yes\";\"yes\";\"yes\";\"yes\";\"yes\";\"yes\";\"yes\";3;3;3;1;2;3;2;\"11\";\"12\";11\\n\"GP\";\"M\";16;\"U\";\"LE3\";\"T\";2;1;\"other\";\"other\";\"course\";\"mother\";1;2;0;\"no\";\"no\";\"yes\";\"yes\";\"yes\";\"yes\";\"yes\";\"yes\";4;2;3;1;2;5;0;\"15\";\"15\";15\\n\"GP\";\"F\";17;\"U\";\"GT3\";\"A\";3;3;\"health\";\"other\";\"reputation\";\"mother\";1;2;0;\"no\";\"yes\";\"no\";\"no\";\"no\";\"yes\";\"yes\";\"yes\";3;3;3;1;3;3;6;\"8\";\"7\";9\\n\"GP\";\"M\";17;\"R\";\"GT3\";\"T\";1;2;\"at_home\";\"other\";\"home\";\"mother\";1;2;0;\"no\";\"no\";\"no\";\"no\";\"yes\";\"yes\";\"no\";\"no\";3;1;3;1;5;3;4;\"8\";\"9\";10\\n\"GP\";\"F\";16;\"U\";\"GT3\";\"T\";2;3;\"services\";\"services\";\"course\";\"mother\";1;2;0;\"no\";\"no\";\"no\";\"no\";\"yes\";\"yes\";\"yes\";\"no\";4;3;3;1;1;2;10;\"11\";\"12\";13\\n\"GP\";\"F\";17;\"U\";\"GT3\";\"T\";1;1;\"at_home\";\"services\";\"course\";\"mother\";1;2;0;\"no\";\"no\";\"no\";\"yes\";\"yes\";\"yes\";\"yes\";\"no\";5;3;3;1;1;3;0;\"8\";\"8\";9\\n\"GP\";\"M\";17;\"U\";\"GT3\";\"T\";1;2;\"at_home\";\"services\";\"other\";\"other\";2;2;0;\"no\";\"no\";\"yes\";\"yes\";\"no\";\"yes\";\"yes\";\"no\";4;4;4;4;5;5;12;\"7\";\"8\";8\\n\"GP\";\"M\";16;\"R\";\"GT3\";\"T\";3;3;\"services\";\"services\";\"reputation\";\"mother\";1;1;0;\"no\";\"yes\";\"no\";\"yes\";\"yes\";\"yes\";\"yes\";\"no\";4;3;2;3;4;5;8;\"8\";\"9\";10\\n\"GP\";\"M\";16;\"U\";\"GT3\";\"T\";2;3;\"other\";\"other\";\"home\";\"father\";2;1;0;\"no\";\"no\";\"no\";\"no\";\"yes\";\"yes\";\"yes\";\"no\";5;3;3;1;1;3;0;\"13\";\"14\";14\\n\"GP\";\"F\";17;\"U\";\"LE3\";\"T\";2;4;\"services\";\"services\";\"course\";\"father\";1;2;0;\"no\";\"no\";\"no\";\"yes\";\"yes\";\"yes\";\"yes\";\"yes\";4;3;2;1;1;5;0;\"14\";\"15\";15\\n\"GP\";\"M\";17;\"U\";\"GT3\";\"T\";4;4;\"services\";\"teacher\";\"home\";\"mother\";1;1;0;\"no\";\"no\";\"no\";\"no\";\"yes\";\"yes\";\"yes\";\"no\";5;2;3;1;2;5;4;\"17\";\"15\";16\\n\"GP\";\"M\";16;\"R\";\"LE3\";\"T\";3;3;\"teacher\";\"other\";\"home\";\"father\";3;1;0;\"no\";\"yes\";\"yes\";\"yes\";\"yes\";\"yes\";\"yes\";\"no\";3;3;4;3;5;3;8;\"9\";\"9\";10\\n\"GP\";\"F\";17;\"U\";\"GT3\";\"T\";4;4;\"services\";\"teacher\";\"home\";\"mother\";2;1;1;\"no\";\"yes\";\"no\";\"no\";\"yes\";\"yes\";\"yes\";\"no\";4;2;4;2;3;2;24;\"18\";\"18\";18\\n\"GP\";\"F\";16;\"U\";\"LE3\";\"T\";4;4;\"teacher\";\"teacher\";\"reputation\";\"mother\";1;2;0;\"no\";\"yes\";\"yes\";\"no\";\"yes\";\"yes\";\"yes\";\"no\";4;5;2;1;2;3;0;\"9\";\"9\";10\\n\"GP\";\"F\";16;\"U\";\"GT3\";\"T\";4;3;\"health\";\"other\";\"home\";\"mother\";1;2;0;\"no\";\"yes\";\"no\";\"yes\";\"yes\";\"yes\";\"yes\";\"no\";4;3;5;1;5;2;2;\"16\";\"16\";16\\n\"GP\";\"F\";16;\"U\";\"GT3\";\"T\";2;3;\"other\";\"other\";\"reputation\";\"mother\";1;2;0;\"yes\";\"yes\";\"yes\";\"yes\";\"yes\";\"yes\";\"no\";\"no\";4;4;3;1;3;4;6;\"8\";\"10\";10\\n\"GP\";\"F\";17;\"U\";\"GT3\";\"T\";1;1;\"other\";\"other\";\"course\";\"mother\";1;2;0;\"no\";\"yes\";\"yes\";\"no\";\"no\";\"yes\";\"no\";\"no\";4;4;4;1;3;1;4;\"9\";\"9\";10\\n\"GP\";\"F\";17;\"R\";\"GT3\";\"T\";2;2;\"other\";\"other\";\"reputation\";\"mother\";1;1;0;\"no\";\"yes\";\"no\";\"no\";\"yes\";\"yes\";\"yes\";\"no\";5;3;2;1;2;3;18;\"7\";\"6\";6\\n\"GP\";\"F\";16;\"R\";\"GT3\";\"T\";2;2;\"services\";\"services\";\"reputation\";\"mother\";2;4;0;\"no\";\"yes\";\"yes\";\"yes\";\"no\";\"yes\";\"yes\";\"no\";5;3;5;1;1;5;6;\"10\";\"10\";11\\n\"GP\";\"F\";17;\"U\";\"GT3\";\"T\";3;4;\"at_home\";\"services\";\"home\";\"mother\";1;3;1;\"no\";\"yes\";\"yes\";\"no\";\"yes\";\"yes\";\"yes\";\"yes\";4;4;3;3;4;5;28;\"10\";\"9\";9\\n\"GP\";\"F\";16;\"U\";\"GT3\";\"A\";3;1;\"services\";\"other\";\"course\";\"mother\";1;2;3;\"no\";\"yes\";\"yes\";\"no\";\"yes\";\"yes\";\"yes\";\"no\";2;3;3;2;2;4;5;\"7\";\"7\";7\\n\"GP\";\"F\";16;\"U\";\"GT3\";\"T\";4;3;\"teacher\";\"other\";\"other\";\"mother\";1;2;0;\"no\";\"no\";\"yes\";\"yes\";\"yes\";\"yes\";\"yes\";\"yes\";1;3;2;1;1;1;10;\"11\";\"12\";13\\n\"GP\";\"F\";16;\"U\";\"GT3\";\"T\";1;1;\"at_home\";\"other\";\"home\";\"mother\";2;1;0;\"no\";\"yes\";\"yes\";\"no\";\"yes\";\"yes\";\"no\";\"no\";4;3;2;1;4;5;6;\"9\";\"9\";10\\n\"GP\";\"F\";17;\"R\";\"GT3\";\"T\";4;3;\"teacher\";\"other\";\"reputation\";\"mother\";2;3;0;\"no\";\"yes\";\"yes\";\"yes\";\"yes\";\"yes\";\"yes\";\"yes\";4;4;2;1;1;4;6;\"7\";\"7\";7\\n\"GP\";\"F\";19;\"U\";\"GT3\";\"T\";3;3;\"other\";\"other\";\"reputation\";\"other\";1;4;0;\"no\";\"yes\";\"yes\";\"yes\";\"yes\";\"yes\";\"yes\";\"no\";4;3;3;1;2;3;10;\"8\";\"8\";8\\n\"GP\";\"M\";17;\"U\";\"LE3\";\"T\";4;4;\"services\";\"other\";\"home\";\"mother\";1;2;0;\"no\";\"yes\";\"yes\";\"no\";\"yes\";\"yes\";\"yes\";\"yes\";5;3;5;4;5;3;13;\"12\";\"12\";13\\n\"GP\";\"F\";16;\"U\";\"GT3\";\"A\";2;2;\"other\";\"other\";\"reputation\";\"mother\";1;2;0;\"yes\";\"yes\";\"yes\";\"no\";\"yes\";\"yes\";\"yes\";\"no\";3;3;4;1;1;4;0;\"12\";\"13\";14\\n\"GP\";\"M\";18;\"U\";\"GT3\";\"T\";2;2;\"services\";\"other\";\"home\";\"mother\";1;2;1;\"no\";\"yes\";\"yes\";\"yes\";\"yes\";\"yes\";\"yes\";\"no\";4;4;4;2;4;5;15;\"6\";\"7\";8\\n\"GP\";\"F\";17;\"R\";\"LE3\";\"T\";4;4;\"services\";\"other\";\"other\";\"mother\";1;1;0;\"no\";\"yes\";\"yes\";\"no\";\"yes\";\"yes\";\"no\";\"no\";5;2;1;1;2;3;12;\"8\";\"10\";10\\n\"GP\";\"F\";17;\"U\";\"LE3\";\"T\";3;2;\"other\";\"other\";\"reputation\";\"mother\";2;2;0;\"no\";\"no\";\"yes\";\"no\";\"yes\";\"yes\";\"yes\";\"no\";4;4;4;1;3;1;2;\"14\";\"15\";15\\n\"GP\";\"F\";17;\"U\";\"GT3\";\"T\";4;3;\"other\";\"other\";\"reputation\";\"mother\";1;2;2;\"no\";\"no\";\"yes\";\"no\";\"yes\";\"yes\";\"yes\";\"yes\";3;4;5;2;4;1;22;\"6\";\"6\";4\\n\"GP\";\"M\";18;\"U\";\"LE3\";\"T\";3;3;\"services\";\"health\";\"home\";\"father\";1;2;1;\"no\";\"yes\";\"yes\";\"no\";\"yes\";\"yes\";\"yes\";\"no\";3;2;4;2;4;4;13;\"6\";\"6\";8\\n\"GP\";\"F\";17;\"U\";\"GT3\";\"T\";2;3;\"at_home\";\"other\";\"home\";\"father\";2;1;0;\"no\";\"yes\";\"yes\";\"no\";\"yes\";\"yes\";\"no\";\"no\";3;3;3;1;4;3;3;\"7\";\"7\";8\\n\"GP\";\"F\";17;\"U\";\"GT3\";\"T\";2;2;\"at_home\";\"at_home\";\"course\";\"mother\";1;3;0;\"no\";\"yes\";\"yes\";\"yes\";\"yes\";\"yes\";\"yes\";\"no\";4;3;3;1;1;4;4;\"9\";\"10\";10\\n\"GP\";\"F\";17;\"R\";\"GT3\";\"T\";2;1;\"at_home\";\"services\";\"reputation\";\"mother\";2;2;0;\"no\";\"yes\";\"no\";\"yes\";\"yes\";\"yes\";\"yes\";\"no\";4;2;5;1;2;5;2;\"6\";\"6\";6\\n\"GP\";\"F\";17;\"U\";\"GT3\";\"T\";1;1;\"at_home\";\"other\";\"reputation\";\"mother\";1;3;1;\"no\";\"yes\";\"no\";\"yes\";\"yes\";\"yes\";\"no\";\"yes\";4;3;4;1;1;5;0;\"6\";\"5\";0\\n\"GP\";\"F\";16;\"U\";\"GT3\";\"T\";2;3;\"services\";\"teacher\";\"other\";\"mother\";1;2;0;\"yes\";\"no\";\"no\";\"no\";\"yes\";\"yes\";\"yes\";\"no\";2;3;1;1;1;3;2;\"16\";\"16\";17\\n\"GP\";\"M\";18;\"U\";\"GT3\";\"T\";2;2;\"other\";\"other\";\"home\";\"mother\";2;2;0;\"no\";\"yes\";\"yes\";\"no\";\"yes\";\"yes\";\"yes\";\"no\";3;3;3;5;5;4;0;\"12\";\"13\";13\\n\"GP\";\"F\";16;\"U\";\"GT3\";\"T\";4;4;\"teacher\";\"services\";\"home\";\"mother\";1;3;0;\"no\";\"yes\";\"no\";\"yes\";\"no\";\"yes\";\"yes\";\"no\";5;3;2;1;1;5;0;\"13\";\"13\";14\\n\"GP\";\"F\";18;\"R\";\"GT3\";\"T\";3;1;\"other\";\"other\";\"reputation\";\"mother\";1;2;1;\"no\";\"no\";\"no\";\"yes\";\"yes\";\"yes\";\"yes\";\"yes\";5;3;3;1;1;4;16;\"9\";\"8\";7\\n\"GP\";\"F\";17;\"U\";\"GT3\";\"T\";3;2;\"other\";\"other\";\"course\";\"mother\";1;2;0;\"no\";\"no\";\"no\";\"yes\";\"no\";\"yes\";\"yes\";\"no\";5;3;4;1;3;3;10;\"16\";\"15\";15\\n\"GP\";\"M\";17;\"U\";\"LE3\";\"T\";2;3;\"services\";\"services\";\"reputation\";\"father\";1;2;0;\"no\";\"yes\";\"yes\";\"no\";\"no\";\"yes\";\"yes\";\"no\";5;3;3;1;3;3;2;\"12\";\"11\";12\\n\"GP\";\"M\";18;\"U\";\"LE3\";\"T\";2;1;\"at_home\";\"other\";\"course\";\"mother\";4;2;0;\"yes\";\"yes\";\"yes\";\"yes\";\"yes\";\"yes\";\"yes\";\"yes\";4;3;2;4;5;3;14;\"10\";\"8\";9\\n\"GP\";\"F\";17;\"U\";\"GT3\";\"A\";2;1;\"other\";\"other\";\"course\";\"mother\";2;3;0;\"no\";\"no\";\"no\";\"yes\";\"yes\";\"yes\";\"yes\";\"yes\";3;2;3;1;2;3;10;\"12\";\"10\";12\\n\"GP\";\"F\";17;\"U\";\"LE3\";\"T\";4;3;\"health\";\"other\";\"reputation\";\"father\";1;2;0;\"no\";\"no\";\"no\";\"yes\";\"yes\";\"yes\";\"yes\";\"yes\";3;2;3;1;2;3;14;\"13\";\"13\";14\\n\"GP\";\"M\";17;\"R\";\"GT3\";\"T\";2;2;\"other\";\"other\";\"course\";\"father\";2;2;0;\"no\";\"yes\";\"yes\";\"yes\";\"yes\";\"yes\";\"yes\";\"no\";4;5;2;1;1;1;4;\"11\";\"11\";11\\n\"GP\";\"M\";17;\"U\";\"GT3\";\"T\";4;4;\"teacher\";\"teacher\";\"reputation\";\"mother\";1;2;0;\"yes\";\"yes\";\"no\";\"yes\";\"yes\";\"yes\";\"yes\";\"yes\";4;5;5;1;3;2;14;\"11\";\"9\";9\\n\"GP\";\"M\";16;\"U\";\"GT3\";\"T\";4;4;\"health\";\"other\";\"reputation\";\"father\";1;2;0;\"no\";\"yes\";\"yes\";\"yes\";\"yes\";\"yes\";\"yes\";\"no\";4;2;4;2;4;1;2;\"14\";\"13\";13\\n\"GP\";\"M\";16;\"U\";\"LE3\";\"T\";1;1;\"other\";\"other\";\"home\";\"mother\";2;2;0;\"no\";\"yes\";\"yes\";\"no\";\"yes\";\"yes\";\"yes\";\"no\";3;4;2;1;1;5;18;\"9\";\"7\";6\\n\"GP\";\"M\";16;\"U\";\"GT3\";\"T\";3;2;\"at_home\";\"other\";\"reputation\";\"mother\";2;3;0;\"no\";\"no\";\"no\";\"yes\";\"yes\";\"yes\";\"yes\";\"yes\";5;3;3;1;3;2;10;\"11\";\"9\";10\\n\"GP\";\"M\";17;\"U\";\"LE3\";\"T\";2;2;\"other\";\"other\";\"home\";\"father\";1;2;0;\"no\";\"no\";\"yes\";\"yes\";\"no\";\"yes\";\"yes\";\"yes\";4;4;2;5;5;4;4;\"14\";\"13\";13\\n\"GP\";\"F\";16;\"U\";\"GT3\";\"T\";2;1;\"other\";\"other\";\"home\";\"mother\";1;1;0;\"no\";\"no\";\"no\";\"no\";\"yes\";\"yes\";\"yes\";\"yes\";4;5;2;1;1;5;20;\"13\";\"12\";12\\n\"GP\";\"F\";17;\"R\";\"GT3\";\"T\";2;1;\"at_home\";\"services\";\"course\";\"mother\";3;2;0;\"no\";\"no\";\"no\";\"yes\";\"yes\";\"yes\";\"no\";\"no\";2;1;1;1;1;3;2;\"13\";\"11\";11\\n\"GP\";\"M\";18;\"U\";\"GT3\";\"T\";2;2;\"other\";\"services\";\"reputation\";\"father\";1;2;1;\"no\";\"no\";\"no\";\"no\";\"yes\";\"no\";\"yes\";\"no\";5;5;4;3;5;2;0;\"7\";\"7\";0\\n\"GP\";\"M\";17;\"U\";\"LE3\";\"T\";4;3;\"health\";\"other\";\"course\";\"mother\";2;2;0;\"no\";\"no\";\"no\";\"yes\";\"yes\";\"yes\";\"yes\";\"yes\";2;5;5;1;4;5;14;\"12\";\"12\";12\\n\"GP\";\"M\";17;\"R\";\"LE3\";\"A\";4;4;\"teacher\";\"other\";\"course\";\"mother\";2;2;0;\"no\";\"yes\";\"yes\";\"no\";\"yes\";\"yes\";\"yes\";\"no\";3;3;3;2;3;4;2;\"10\";\"11\";12\\n\"GP\";\"M\";16;\"U\";\"LE3\";\"T\";4;3;\"teacher\";\"other\";\"course\";\"mother\";1;1;0;\"no\";\"no\";\"no\";\"yes\";\"no\";\"yes\";\"yes\";\"no\";5;4;5;1;1;3;0;\"6\";\"0\";0\\n\"GP\";\"M\";16;\"U\";\"GT3\";\"T\";4;4;\"services\";\"services\";\"course\";\"mother\";1;1;0;\"no\";\"no\";\"no\";\"yes\";\"yes\";\"yes\";\"yes\";\"no\";5;3;2;1;2;5;0;\"13\";\"12\";12\\n\"GP\";\"F\";18;\"U\";\"GT3\";\"T\";2;1;\"other\";\"other\";\"course\";\"other\";2;3;0;\"no\";\"yes\";\"yes\";\"no\";\"no\";\"yes\";\"yes\";\"yes\";4;4;4;1;1;3;0;\"7\";\"0\";0\\n\"GP\";\"M\";16;\"U\";\"GT3\";\"T\";2;1;\"other\";\"other\";\"course\";\"mother\";3;1;0;\"no\";\"no\";\"no\";\"no\";\"yes\";\"yes\";\"yes\";\"no\";4;3;3;1;1;4;6;\"18\";\"18\";18\\n\"GP\";\"M\";17;\"U\";\"GT3\";\"T\";2;3;\"other\";\"other\";\"course\";\"father\";2;1;0;\"no\";\"no\";\"no\";\"no\";\"yes\";\"yes\";\"yes\";\"no\";5;2;2;1;1;2;4;\"12\";\"12\";13\\n\"GP\";\"M\";22;\"U\";\"GT3\";\"T\";3;1;\"services\";\"services\";\"other\";\"mother\";1;1;3;\"no\";\"no\";\"no\";\"no\";\"no\";\"no\";\"yes\";\"yes\";5;4;5;5;5;1;16;\"6\";\"8\";8\\n\"GP\";\"M\";18;\"R\";\"LE3\";\"T\";3;3;\"other\";\"services\";\"course\";\"mother\";1;2;1;\"no\";\"yes\";\"no\";\"no\";\"yes\";\"yes\";\"yes\";\"yes\";4;3;3;1;3;5;8;\"3\";\"5\";5\\n\"GP\";\"M\";16;\"U\";\"GT3\";\"T\";0;2;\"other\";\"other\";\"other\";\"mother\";1;1;0;\"no\";\"no\";\"yes\";\"no\";\"no\";\"yes\";\"yes\";\"no\";4;3;2;2;4;5;0;\"13\";\"15\";15\\n\"GP\";\"M\";18;\"U\";\"GT3\";\"T\";3;2;\"services\";\"other\";\"course\";\"mother\";2;1;1;\"no\";\"no\";\"no\";\"no\";\"yes\";\"no\";\"yes\";\"no\";4;4;5;2;4;5;0;\"6\";\"8\";8\\n\"GP\";\"M\";16;\"U\";\"GT3\";\"T\";3;3;\"at_home\";\"other\";\"reputation\";\"other\";3;2;0;\"yes\";\"yes\";\"no\";\"no\";\"no\";\"yes\";\"yes\";\"no\";5;3;3;1;3;2;6;\"7\";\"10\";10\\n\"GP\";\"M\";18;\"U\";\"GT3\";\"T\";2;1;\"services\";\"services\";\"other\";\"mother\";1;1;1;\"no\";\"no\";\"no\";\"no\";\"no\";\"no\";\"yes\";\"no\";3;2;5;2;5;5;4;\"6\";\"9\";8\\n\"GP\";\"M\";16;\"R\";\"GT3\";\"T\";2;1;\"other\";\"other\";\"course\";\"mother\";2;1;0;\"no\";\"no\";\"no\";\"yes\";\"no\";\"yes\";\"no\";\"no\";3;3;2;1;3;3;0;\"8\";\"9\";8\\n\"GP\";\"M\";17;\"R\";\"GT3\";\"T\";2;1;\"other\";\"other\";\"course\";\"mother\";1;1;0;\"no\";\"no\";\"no\";\"no\";\"no\";\"yes\";\"yes\";\"no\";4;4;2;2;4;5;0;\"8\";\"12\";12\\n\"GP\";\"M\";17;\"U\";\"LE3\";\"T\";1;1;\"health\";\"other\";\"course\";\"mother\";2;1;1;\"no\";\"yes\";\"no\";\"yes\";\"yes\";\"yes\";\"yes\";\"no\";4;4;4;1;2;5;2;\"7\";\"9\";8\\n\"GP\";\"F\";17;\"U\";\"LE3\";\"T\";4;2;\"teacher\";\"services\";\"reputation\";\"mother\";1;4;0;\"no\";\"yes\";\"yes\";\"yes\";\"yes\";\"yes\";\"yes\";\"no\";4;2;3;1;1;4;6;\"14\";\"12\";13\\n\"GP\";\"M\";19;\"U\";\"LE3\";\"A\";4;3;\"services\";\"at_home\";\"reputation\";\"mother\";1;2;0;\"no\";\"yes\";\"no\";\"no\";\"yes\";\"yes\";\"yes\";\"no\";4;3;1;1;1;1;12;\"11\";\"11\";11\\n\"GP\";\"M\";18;\"U\";\"GT3\";\"T\";2;1;\"other\";\"other\";\"home\";\"mother\";1;2;0;\"no\";\"no\";\"no\";\"yes\";\"yes\";\"yes\";\"yes\";\"no\";5;2;4;1;2;4;8;\"15\";\"14\";14\\n\"GP\";\"F\";17;\"U\";\"LE3\";\"T\";2;2;\"services\";\"services\";\"course\";\"father\";1;4;0;\"no\";\"no\";\"yes\";\"yes\";\"yes\";\"yes\";\"yes\";\"yes\";3;4;1;1;1;2;0;\"10\";\"9\";0\\n\"GP\";\"F\";18;\"U\";\"GT3\";\"T\";4;3;\"services\";\"other\";\"home\";\"father\";1;2;0;\"no\";\"yes\";\"yes\";\"no\";\"yes\";\"yes\";\"yes\";\"yes\";3;1;2;1;3;2;21;\"17\";\"18\";18\\n\"GP\";\"M\";18;\"U\";\"GT3\";\"T\";4;3;\"teacher\";\"other\";\"course\";\"mother\";1;2;0;\"no\";\"yes\";\"yes\";\"no\";\"no\";\"yes\";\"yes\";\"no\";4;3;2;1;1;3;2;\"8\";\"8\";8\\n\"GP\";\"M\";18;\"R\";\"GT3\";\"T\";3;2;\"other\";\"other\";\"course\";\"mother\";1;3;0;\"no\";\"no\";\"no\";\"yes\";\"no\";\"yes\";\"no\";\"no\";5;3;2;1;1;3;1;\"13\";\"12\";12\\n\"GP\";\"F\";17;\"U\";\"GT3\";\"T\";3;3;\"other\";\"other\";\"home\";\"mother\";1;3;0;\"no\";\"no\";\"no\";\"yes\";\"no\";\"yes\";\"no\";\"no\";3;2;3;1;1;4;4;\"10\";\"9\";9\\n\"GP\";\"F\";18;\"U\";\"GT3\";\"T\";2;2;\"at_home\";\"services\";\"home\";\"mother\";1;3;0;\"no\";\"yes\";\"yes\";\"yes\";\"yes\";\"yes\";\"yes\";\"yes\";4;3;3;1;1;3;0;\"9\";\"10\";0\\n\"GP\";\"M\";18;\"R\";\"LE3\";\"A\";3;4;\"other\";\"other\";\"reputation\";\"mother\";2;2;0;\"no\";\"yes\";\"yes\";\"yes\";\"yes\";\"yes\";\"yes\";\"no\";4;2;5;3;4;1;13;\"17\";\"17\";17\\n\"GP\";\"M\";17;\"U\";\"GT3\";\"T\";3;1;\"services\";\"other\";\"other\";\"mother\";1;2;0;\"no\";\"no\";\"yes\";\"yes\";\"yes\";\"yes\";\"yes\";\"yes\";5;4;4;3;4;5;2;\"9\";\"9\";10\\n\"GP\";\"F\";18;\"R\";\"GT3\";\"T\";4;4;\"teacher\";\"other\";\"reputation\";\"mother\";2;2;0;\"no\";\"no\";\"yes\";\"yes\";\"yes\";\"yes\";\"yes\";\"no\";4;3;4;2;2;4;8;\"12\";\"10\";11\\n\"GP\";\"M\";18;\"U\";\"GT3\";\"T\";4;2;\"health\";\"other\";\"reputation\";\"father\";1;2;0;\"no\";\"yes\";\"yes\";\"yes\";\"yes\";\"yes\";\"yes\";\"yes\";5;4;5;1;3;5;10;\"10\";\"9\";10\\n\"GP\";\"F\";18;\"R\";\"GT3\";\"T\";2;1;\"other\";\"other\";\"reputation\";\"mother\";2;2;0;\"no\";\"yes\";\"no\";\"no\";\"yes\";\"no\";\"yes\";\"yes\";4;3;5;1;2;3;0;\"6\";\"0\";0\\n\"GP\";\"F\";19;\"U\";\"GT3\";\"T\";3;3;\"other\";\"services\";\"home\";\"other\";1;2;2;\"no\";\"yes\";\"yes\";\"yes\";\"yes\";\"yes\";\"yes\";\"no\";4;3;5;3;3;5;15;\"9\";\"9\";9\\n\"GP\";\"F\";18;\"U\";\"GT3\";\"T\";2;3;\"other\";\"services\";\"reputation\";\"father\";1;4;0;\"no\";\"yes\";\"yes\";\"yes\";\"yes\";\"yes\";\"yes\";\"yes\";4;5;5;1;3;2;4;\"15\";\"14\";14\\n\"GP\";\"F\";18;\"U\";\"LE3\";\"T\";1;1;\"other\";\"other\";\"home\";\"mother\";2;2;0;\"no\";\"yes\";\"yes\";\"no\";\"no\";\"yes\";\"no\";\"no\";4;4;3;1;1;3;2;\"11\";\"11\";11\\n\"GP\";\"M\";17;\"R\";\"GT3\";\"T\";1;2;\"at_home\";\"at_home\";\"home\";\"mother\";1;2;0;\"no\";\"yes\";\"yes\";\"yes\";\"no\";\"yes\";\"no\";\"yes\";3;5;2;2;2;1;2;\"15\";\"14\";14\\n\"GP\";\"F\";17;\"U\";\"GT3\";\"T\";2;4;\"at_home\";\"health\";\"reputation\";\"mother\";2;2;0;\"no\";\"yes\";\"yes\";\"no\";\"yes\";\"yes\";\"yes\";\"yes\";4;3;3;1;1;1;2;\"10\";\"10\";10\\n\"GP\";\"F\";17;\"U\";\"LE3\";\"T\";2;2;\"services\";\"other\";\"course\";\"mother\";2;2;0;\"yes\";\"yes\";\"yes\";\"no\";\"yes\";\"yes\";\"yes\";\"yes\";4;4;4;2;3;5;6;\"12\";\"12\";12\\n\"GP\";\"F\";18;\"R\";\"GT3\";\"A\";3;2;\"other\";\"services\";\"home\";\"mother\";2;2;0;\"no\";\"no\";\"no\";\"no\";\"no\";\"no\";\"yes\";\"yes\";4;1;1;1;1;5;75;\"10\";\"9\";9\\n\"GP\";\"M\";18;\"U\";\"GT3\";\"T\";4;4;\"teacher\";\"services\";\"home\";\"mother\";2;1;0;\"no\";\"no\";\"yes\";\"yes\";\"yes\";\"yes\";\"yes\";\"no\";3;2;4;1;4;3;22;\"9\";\"9\";9\\n\"GP\";\"F\";18;\"U\";\"GT3\";\"T\";4;4;\"health\";\"health\";\"reputation\";\"father\";1;2;1;\"yes\";\"yes\";\"no\";\"yes\";\"yes\";\"yes\";\"yes\";\"yes\";2;4;4;1;1;4;15;\"9\";\"8\";8\\n\"GP\";\"M\";18;\"U\";\"LE3\";\"T\";4;3;\"teacher\";\"services\";\"course\";\"mother\";2;1;0;\"no\";\"no\";\"yes\";\"yes\";\"yes\";\"yes\";\"yes\";\"no\";4;2;3;1;2;1;8;\"10\";\"11\";10\\n\"GP\";\"M\";17;\"U\";\"LE3\";\"A\";4;1;\"services\";\"other\";\"home\";\"mother\";2;1;0;\"no\";\"no\";\"yes\";\"yes\";\"yes\";\"yes\";\"yes\";\"yes\";4;5;4;2;4;5;30;\"8\";\"8\";8\\n\"GP\";\"M\";17;\"U\";\"LE3\";\"A\";3;2;\"teacher\";\"services\";\"home\";\"mother\";1;1;1;\"no\";\"no\";\"no\";\"no\";\"yes\";\"yes\";\"yes\";\"no\";4;4;4;3;4;3;19;\"11\";\"9\";10\\n\"GP\";\"F\";18;\"R\";\"LE3\";\"T\";1;1;\"at_home\";\"other\";\"reputation\";\"mother\";2;4;0;\"no\";\"yes\";\"yes\";\"yes\";\"yes\";\"yes\";\"no\";\"no\";5;2;2;1;1;3;1;\"12\";\"12\";12\\n\"GP\";\"F\";18;\"U\";\"GT3\";\"T\";1;1;\"other\";\"other\";\"home\";\"mother\";2;2;0;\"yes\";\"no\";\"no\";\"yes\";\"yes\";\"yes\";\"yes\";\"no\";5;4;4;1;1;4;4;\"8\";\"9\";10\\n\"GP\";\"F\";17;\"U\";\"GT3\";\"T\";2;2;\"other\";\"other\";\"course\";\"mother\";1;2;0;\"no\";\"yes\";\"no\";\"no\";\"no\";\"yes\";\"yes\";\"no\";5;4;5;1;2;5;4;\"10\";\"9\";11\\n\"GP\";\"M\";17;\"U\";\"GT3\";\"T\";1;1;\"other\";\"other\";\"reputation\";\"father\";1;2;0;\"no\";\"no\";\"yes\";\"no\";\"no\";\"yes\";\"yes\";\"no\";4;3;3;1;2;4;2;\"12\";\"10\";11\\n\"GP\";\"F\";18;\"U\";\"GT3\";\"T\";2;2;\"at_home\";\"at_home\";\"other\";\"mother\";1;3;0;\"no\";\"yes\";\"yes\";\"no\";\"yes\";\"yes\";\"yes\";\"no\";4;3;3;1;2;2;5;\"18\";\"18\";19\\n\"GP\";\"F\";17;\"U\";\"GT3\";\"T\";1;1;\"services\";\"teacher\";\"reputation\";\"mother\";1;3;0;\"no\";\"yes\";\"yes\";\"no\";\"yes\";\"yes\";\"yes\";\"no\";4;3;3;1;1;3;6;\"13\";\"12\";12\\n\"GP\";\"M\";18;\"U\";\"GT3\";\"T\";2;1;\"services\";\"services\";\"reputation\";\"mother\";1;3;0;\"no\";\"no\";\"yes\";\"yes\";\"yes\";\"yes\";\"yes\";\"no\";4;2;4;1;3;2;6;\"15\";\"14\";14\\n\"GP\";\"M\";18;\"U\";\"LE3\";\"A\";4;4;\"teacher\";\"teacher\";\"reputation\";\"mother\";1;2;0;\"no\";\"yes\";\"yes\";\"yes\";\"yes\";\"yes\";\"yes\";\"no\";5;4;3;1;1;2;9;\"15\";\"13\";15\\n\"GP\";\"M\";18;\"U\";\"GT3\";\"T\";4;2;\"teacher\";\"other\";\"home\";\"mother\";1;2;0;\"no\";\"yes\";\"yes\";\"yes\";\"yes\";\"yes\";\"yes\";\"yes\";4;3;2;1;4;5;11;\"12\";\"11\";11\\n\"GP\";\"F\";17;\"U\";\"GT3\";\"T\";4;3;\"health\";\"services\";\"reputation\";\"mother\";1;3;0;\"no\";\"yes\";\"yes\";\"no\";\"yes\";\"yes\";\"yes\";\"no\";4;2;2;1;2;3;0;\"15\";\"15\";15\\n\"GP\";\"F\";18;\"U\";\"LE3\";\"T\";2;1;\"services\";\"at_home\";\"reputation\";\"mother\";1;2;1;\"no\";\"no\";\"no\";\"no\";\"yes\";\"yes\";\"yes\";\"yes\";5;4;3;1;1;5;12;\"12\";\"12\";13\\n\"GP\";\"F\";17;\"R\";\"LE3\";\"T\";3;1;\"services\";\"other\";\"reputation\";\"mother\";2;4;0;\"no\";\"yes\";\"yes\";\"no\";\"yes\";\"yes\";\"no\";\"no\";3;1;2;1;1;3;6;\"18\";\"18\";18\\n\"GP\";\"M\";18;\"R\";\"LE3\";\"T\";3;2;\"services\";\"other\";\"reputation\";\"mother\";2;3;0;\"no\";\"yes\";\"yes\";\"yes\";\"yes\";\"yes\";\"yes\";\"no\";5;4;2;1;1;4;8;\"14\";\"13\";14\\n\"GP\";\"M\";17;\"U\";\"GT3\";\"T\";3;3;\"health\";\"other\";\"home\";\"mother\";1;1;0;\"no\";\"yes\";\"yes\";\"no\";\"yes\";\"yes\";\"yes\";\"no\";4;4;3;1;3;5;4;\"14\";\"12\";11\\n\"GP\";\"F\";19;\"U\";\"GT3\";\"T\";4;4;\"health\";\"other\";\"reputation\";\"other\";2;2;0;\"no\";\"yes\";\"yes\";\"yes\";\"yes\";\"yes\";\"yes\";\"no\";2;3;4;2;3;2;0;\"10\";\"9\";0\\n\"GP\";\"F\";18;\"U\";\"LE3\";\"T\";4;3;\"other\";\"other\";\"home\";\"other\";2;2;0;\"no\";\"yes\";\"yes\";\"no\";\"yes\";\"yes\";\"yes\";\"yes\";4;4;5;1;2;2;10;\"10\";\"8\";8\\n\"GP\";\"F\";18;\"U\";\"GT3\";\"T\";4;3;\"other\";\"other\";\"reputation\";\"father\";1;4;0;\"no\";\"yes\";\"yes\";\"no\";\"yes\";\"yes\";\"yes\";\"no\";4;3;3;1;1;3;0;\"14\";\"13\";14\\n\"GP\";\"M\";18;\"U\";\"LE3\";\"T\";4;4;\"teacher\";\"teacher\";\"home\";\"mother\";1;1;0;\"no\";\"yes\";\"yes\";\"no\";\"yes\";\"yes\";\"yes\";\"yes\";1;4;2;2;2;1;5;\"16\";\"15\";16\\n\"GP\";\"F\";18;\"U\";\"LE3\";\"A\";4;4;\"health\";\"other\";\"home\";\"mother\";1;2;0;\"no\";\"yes\";\"no\";\"no\";\"yes\";\"yes\";\"yes\";\"yes\";4;2;4;1;1;4;14;\"12\";\"10\";11\\n\"GP\";\"M\";17;\"U\";\"LE3\";\"T\";4;4;\"other\";\"teacher\";\"home\";\"father\";2;1;0;\"no\";\"no\";\"yes\";\"no\";\"yes\";\"yes\";\"yes\";\"no\";4;1;1;2;2;5;0;\"11\";\"11\";10\\n\"GP\";\"F\";17;\"U\";\"GT3\";\"T\";4;2;\"other\";\"other\";\"reputation\";\"mother\";2;3;0;\"no\";\"yes\";\"yes\";\"no\";\"yes\";\"yes\";\"yes\";\"no\";4;3;3;1;1;3;0;\"15\";\"12\";14\\n\"GP\";\"F\";17;\"U\";\"GT3\";\"T\";3;2;\"health\";\"health\";\"reputation\";\"father\";1;4;0;\"no\";\"yes\";\"yes\";\"yes\";\"no\";\"yes\";\"yes\";\"no\";5;2;2;1;2;5;0;\"17\";\"17\";18\\n\"GP\";\"M\";19;\"U\";\"GT3\";\"T\";3;3;\"other\";\"other\";\"home\";\"other\";1;2;1;\"no\";\"yes\";\"no\";\"yes\";\"yes\";\"yes\";\"yes\";\"yes\";4;4;4;1;1;3;20;\"15\";\"14\";13\\n\"GP\";\"F\";18;\"U\";\"GT3\";\"T\";2;4;\"services\";\"at_home\";\"reputation\";\"other\";1;2;1;\"no\";\"yes\";\"yes\";\"yes\";\"yes\";\"yes\";\"yes\";\"no\";4;4;3;1;1;3;8;\"14\";\"12\";12\\n\"GP\";\"M\";20;\"U\";\"GT3\";\"A\";3;2;\"services\";\"other\";\"course\";\"other\";1;1;0;\"no\";\"no\";\"no\";\"yes\";\"yes\";\"yes\";\"no\";\"no\";5;5;3;1;1;5;0;\"17\";\"18\";18\\n\"GP\";\"M\";19;\"U\";\"GT3\";\"T\";4;4;\"teacher\";\"services\";\"reputation\";\"other\";2;1;1;\"no\";\"yes\";\"yes\";\"no\";\"yes\";\"yes\";\"yes\";\"yes\";4;3;4;1;1;4;38;\"8\";\"9\";8\\n\"GP\";\"M\";19;\"R\";\"GT3\";\"T\";3;3;\"other\";\"services\";\"reputation\";\"father\";1;2;1;\"no\";\"no\";\"no\";\"yes\";\"yes\";\"yes\";\"no\";\"yes\";4;5;3;1;2;5;0;\"15\";\"12\";12\\n\"GP\";\"F\";19;\"U\";\"LE3\";\"T\";1;1;\"at_home\";\"other\";\"reputation\";\"other\";1;2;1;\"yes\";\"yes\";\"no\";\"yes\";\"no\";\"yes\";\"yes\";\"no\";4;4;3;1;3;3;18;\"12\";\"10\";10\\n\"GP\";\"F\";19;\"U\";\"LE3\";\"T\";1;2;\"services\";\"services\";\"home\";\"other\";1;2;1;\"no\";\"no\";\"no\";\"yes\";\"no\";\"yes\";\"no\";\"yes\";4;2;4;2;2;3;0;\"9\";\"9\";0\\n\"GP\";\"F\";19;\"U\";\"GT3\";\"T\";2;1;\"at_home\";\"other\";\"other\";\"other\";3;2;0;\"no\";\"yes\";\"no\";\"no\";\"yes\";\"no\";\"yes\";\"yes\";3;4;1;1;1;2;20;\"14\";\"12\";13\\n\"GP\";\"M\";19;\"U\";\"GT3\";\"T\";1;2;\"other\";\"services\";\"course\";\"other\";1;2;1;\"no\";\"no\";\"no\";\"no\";\"no\";\"yes\";\"yes\";\"no\";4;5;2;2;2;4;3;\"13\";\"11\";11\\n\"GP\";\"F\";19;\"U\";\"LE3\";\"T\";3;2;\"services\";\"other\";\"reputation\";\"other\";2;2;1;\"no\";\"yes\";\"yes\";\"no\";\"no\";\"yes\";\"yes\";\"yes\";4;2;2;1;2;1;22;\"13\";\"10\";11\\n\"GP\";\"F\";19;\"U\";\"GT3\";\"T\";1;1;\"at_home\";\"health\";\"home\";\"other\";1;3;2;\"no\";\"no\";\"no\";\"no\";\"no\";\"yes\";\"yes\";\"yes\";4;1;2;1;1;3;14;\"15\";\"13\";13\\n\"GP\";\"F\";19;\"R\";\"GT3\";\"T\";2;3;\"other\";\"other\";\"reputation\";\"other\";1;3;1;\"no\";\"no\";\"no\";\"no\";\"yes\";\"yes\";\"yes\";\"yes\";4;1;2;1;1;3;40;\"13\";\"11\";11\\n\"GP\";\"F\";18;\"U\";\"GT3\";\"T\";2;1;\"services\";\"other\";\"course\";\"mother\";2;2;0;\"no\";\"yes\";\"yes\";\"yes\";\"yes\";\"yes\";\"yes\";\"no\";5;3;3;1;2;1;0;\"8\";\"8\";0\\n\"GP\";\"F\";18;\"U\";\"GT3\";\"T\";4;3;\"other\";\"other\";\"course\";\"mother\";1;3;0;\"no\";\"yes\";\"yes\";\"yes\";\"yes\";\"yes\";\"yes\";\"yes\";4;3;4;1;1;5;9;\"9\";\"10\";9\\n\"GP\";\"F\";17;\"R\";\"GT3\";\"T\";3;4;\"at_home\";\"services\";\"course\";\"father\";1;3;0;\"no\";\"yes\";\"yes\";\"yes\";\"no\";\"yes\";\"yes\";\"no\";4;3;4;2;5;5;0;\"11\";\"11\";10\\n\"GP\";\"F\";18;\"U\";\"GT3\";\"T\";4;4;\"teacher\";\"other\";\"course\";\"mother\";1;2;0;\"no\";\"yes\";\"yes\";\"no\";\"yes\";\"yes\";\"yes\";\"no\";4;4;4;3;3;5;2;\"11\";\"11\";11\\n\"GP\";\"F\";17;\"U\";\"GT3\";\"A\";4;3;\"services\";\"services\";\"course\";\"mother\";1;2;0;\"no\";\"yes\";\"yes\";\"no\";\"yes\";\"yes\";\"yes\";\"yes\";5;2;2;1;2;5;23;\"13\";\"13\";13\\n\"GP\";\"F\";17;\"U\";\"GT3\";\"T\";2;2;\"other\";\"other\";\"course\";\"mother\";1;2;0;\"no\";\"yes\";\"no\";\"no\";\"yes\";\"yes\";\"no\";\"yes\";4;2;2;1;1;3;12;\"11\";\"9\";9\\n\"GP\";\"F\";17;\"R\";\"LE3\";\"T\";2;2;\"services\";\"services\";\"course\";\"mother\";1;3;0;\"no\";\"yes\";\"yes\";\"yes\";\"yes\";\"yes\";\"yes\";\"no\";3;3;2;2;2;3;3;\"11\";\"11\";11\\n\"GP\";\"F\";17;\"U\";\"GT3\";\"T\";3;1;\"services\";\"services\";\"course\";\"father\";1;3;0;\"no\";\"yes\";\"no\";\"no\";\"no\";\"yes\";\"yes\";\"no\";3;4;3;2;3;5;1;\"12\";\"14\";15\\n\"GP\";\"F\";17;\"U\";\"LE3\";\"T\";0;2;\"at_home\";\"at_home\";\"home\";\"father\";2;3;0;\"no\";\"no\";\"no\";\"no\";\"yes\";\"yes\";\"yes\";\"no\";3;3;3;2;3;2;0;\"16\";\"15\";15\\n\"GP\";\"M\";18;\"U\";\"GT3\";\"T\";4;4;\"other\";\"other\";\"course\";\"mother\";1;3;0;\"no\";\"no\";\"no\";\"yes\";\"yes\";\"yes\";\"yes\";\"no\";4;3;3;2;2;3;3;\"9\";\"12\";11\\n\"GP\";\"M\";17;\"U\";\"GT3\";\"T\";3;3;\"other\";\"services\";\"reputation\";\"mother\";1;1;0;\"no\";\"no\";\"no\";\"yes\";\"no\";\"yes\";\"yes\";\"no\";4;3;5;3;5;5;3;\"14\";\"15\";16\\n\"GP\";\"M\";17;\"R\";\"GT3\";\"T\";2;2;\"services\";\"other\";\"course\";\"mother\";4;1;0;\"no\";\"yes\";\"no\";\"no\";\"yes\";\"yes\";\"yes\";\"no\";4;4;5;5;5;4;8;\"11\";\"10\";10\\n\"GP\";\"F\";17;\"U\";\"GT3\";\"T\";4;4;\"teacher\";\"services\";\"course\";\"mother\";1;3;0;\"no\";\"yes\";\"yes\";\"yes\";\"yes\";\"yes\";\"yes\";\"no\";5;4;4;1;3;4;7;\"10\";\"9\";9\\n\"GP\";\"F\";17;\"U\";\"GT3\";\"T\";4;4;\"teacher\";\"teacher\";\"course\";\"mother\";2;3;0;\"no\";\"yes\";\"yes\";\"no\";\"no\";\"yes\";\"yes\";\"yes\";4;3;3;1;2;4;4;\"14\";\"14\";14\\n\"GP\";\"M\";18;\"U\";\"LE3\";\"T\";2;2;\"other\";\"other\";\"course\";\"mother\";1;4;0;\"no\";\"yes\";\"no\";\"yes\";\"yes\";\"yes\";\"yes\";\"no\";4;5;5;2;4;5;2;\"9\";\"8\";8\\n\"GP\";\"F\";17;\"R\";\"GT3\";\"T\";2;4;\"at_home\";\"other\";\"course\";\"father\";1;3;0;\"no\";\"yes\";\"no\";\"no\";\"yes\";\"yes\";\"yes\";\"yes\";4;4;3;1;1;5;7;\"12\";\"14\";14\\n\"GP\";\"F\";18;\"U\";\"GT3\";\"T\";3;3;\"services\";\"services\";\"home\";\"mother\";1;2;0;\"no\";\"no\";\"no\";\"yes\";\"yes\";\"yes\";\"yes\";\"no\";5;3;4;1;1;4;0;\"7\";\"0\";0\\n\"GP\";\"F\";18;\"U\";\"LE3\";\"T\";2;2;\"other\";\"other\";\"home\";\"other\";1;2;0;\"no\";\"no\";\"no\";\"yes\";\"no\";\"yes\";\"yes\";\"yes\";4;3;3;1;1;2;0;\"8\";\"8\";0\\n\"GP\";\"F\";18;\"R\";\"GT3\";\"T\";2;2;\"at_home\";\"other\";\"course\";\"mother\";2;4;0;\"no\";\"no\";\"no\";\"yes\";\"yes\";\"yes\";\"no\";\"no\";4;4;4;1;1;4;0;\"10\";\"9\";0\\n\"GP\";\"F\";17;\"U\";\"GT3\";\"T\";3;4;\"services\";\"other\";\"course\";\"mother\";1;3;0;\"no\";\"no\";\"no\";\"no\";\"yes\";\"yes\";\"yes\";\"no\";4;4;5;1;3;5;16;\"16\";\"15\";15\\n\"GP\";\"F\";19;\"R\";\"GT3\";\"A\";3;1;\"services\";\"at_home\";\"home\";\"other\";1;3;1;\"no\";\"no\";\"yes\";\"no\";\"yes\";\"yes\";\"no\";\"no\";5;4;3;1;2;5;12;\"14\";\"13\";13\\n\"GP\";\"F\";17;\"U\";\"GT3\";\"T\";3;2;\"other\";\"other\";\"home\";\"mother\";1;2;0;\"no\";\"yes\";\"yes\";\"no\";\"yes\";\"yes\";\"yes\";\"yes\";4;3;2;2;3;2;0;\"7\";\"8\";0\\n\"GP\";\"F\";18;\"U\";\"LE3\";\"T\";3;3;\"services\";\"services\";\"home\";\"mother\";1;4;0;\"no\";\"yes\";\"no\";\"no\";\"yes\";\"yes\";\"yes\";\"no\";5;3;3;1;1;1;7;\"16\";\"15\";17\\n\"GP\";\"F\";17;\"R\";\"GT3\";\"A\";3;2;\"other\";\"other\";\"home\";\"mother\";1;2;0;\"no\";\"yes\";\"yes\";\"no\";\"yes\";\"yes\";\"yes\";\"no\";4;3;3;2;3;2;4;\"9\";\"10\";10\\n\"GP\";\"F\";19;\"U\";\"GT3\";\"T\";2;1;\"services\";\"services\";\"home\";\"other\";1;3;1;\"no\";\"no\";\"yes\";\"yes\";\"yes\";\"yes\";\"yes\";\"yes\";4;3;4;1;3;3;4;\"11\";\"12\";11\\n\"GP\";\"M\";18;\"U\";\"GT3\";\"T\";4;4;\"teacher\";\"services\";\"home\";\"father\";1;2;1;\"no\";\"yes\";\"no\";\"yes\";\"yes\";\"yes\";\"yes\";\"no\";4;3;3;2;2;2;0;\"10\";\"10\";0\\n\"GP\";\"M\";18;\"U\";\"LE3\";\"T\";3;4;\"services\";\"other\";\"home\";\"mother\";1;2;0;\"no\";\"no\";\"no\";\"yes\";\"yes\";\"yes\";\"yes\";\"yes\";4;3;3;1;3;5;11;\"16\";\"15\";15\\n\"GP\";\"F\";17;\"U\";\"GT3\";\"A\";2;2;\"at_home\";\"at_home\";\"home\";\"father\";1;2;1;\"no\";\"yes\";\"no\";\"no\";\"yes\";\"yes\";\"yes\";\"yes\";3;3;1;1;2;4;0;\"9\";\"8\";0\\n\"GP\";\"F\";18;\"U\";\"GT3\";\"T\";2;3;\"at_home\";\"other\";\"course\";\"mother\";1;3;0;\"no\";\"yes\";\"no\";\"no\";\"yes\";\"yes\";\"yes\";\"no\";4;3;3;1;2;3;4;\"11\";\"10\";10\\n\"GP\";\"F\";18;\"U\";\"GT3\";\"T\";3;2;\"other\";\"services\";\"other\";\"mother\";1;3;0;\"no\";\"no\";\"no\";\"no\";\"yes\";\"yes\";\"yes\";\"yes\";5;4;3;2;3;1;7;\"13\";\"13\";14\\n\"GP\";\"M\";18;\"R\";\"GT3\";\"T\";4;3;\"teacher\";\"services\";\"course\";\"mother\";1;3;0;\"no\";\"no\";\"no\";\"no\";\"yes\";\"yes\";\"yes\";\"yes\";5;3;2;1;2;4;9;\"16\";\"15\";16\\n\"GP\";\"M\";18;\"U\";\"GT3\";\"T\";4;3;\"teacher\";\"other\";\"course\";\"mother\";1;3;0;\"no\";\"yes\";\"yes\";\"no\";\"yes\";\"yes\";\"yes\";\"yes\";5;4;5;2;3;5;0;\"10\";\"10\";9\\n\"GP\";\"F\";17;\"U\";\"GT3\";\"T\";4;3;\"health\";\"other\";\"reputation\";\"mother\";1;3;0;\"no\";\"yes\";\"yes\";\"yes\";\"yes\";\"yes\";\"yes\";\"yes\";4;4;3;1;3;4;0;\"13\";\"15\";15\\n\"MS\";\"M\";18;\"R\";\"GT3\";\"T\";3;2;\"other\";\"other\";\"course\";\"mother\";2;1;1;\"no\";\"yes\";\"no\";\"no\";\"no\";\"yes\";\"yes\";\"no\";2;5;5;5;5;5;10;\"11\";\"13\";13\\n\"MS\";\"M\";19;\"R\";\"GT3\";\"T\";1;1;\"other\";\"services\";\"home\";\"other\";3;2;3;\"no\";\"no\";\"no\";\"no\";\"yes\";\"yes\";\"yes\";\"no\";5;4;4;3;3;2;8;\"8\";\"7\";8\\n\"MS\";\"M\";17;\"U\";\"GT3\";\"T\";3;3;\"health\";\"other\";\"course\";\"mother\";2;2;0;\"no\";\"yes\";\"yes\";\"no\";\"yes\";\"yes\";\"yes\";\"no\";4;5;4;2;3;3;2;\"13\";\"13\";13\\n\"MS\";\"M\";18;\"U\";\"LE3\";\"T\";1;3;\"at_home\";\"services\";\"course\";\"mother\";1;1;1;\"no\";\"no\";\"no\";\"no\";\"yes\";\"no\";\"yes\";\"yes\";4;3;3;2;3;3;7;\"8\";\"7\";8\\n\"MS\";\"M\";19;\"R\";\"GT3\";\"T\";1;1;\"other\";\"other\";\"home\";\"other\";3;1;1;\"no\";\"yes\";\"no\";\"no\";\"yes\";\"yes\";\"yes\";\"no\";4;4;4;3;3;5;4;\"8\";\"8\";8\\n\"MS\";\"M\";17;\"R\";\"GT3\";\"T\";4;3;\"services\";\"other\";\"home\";\"mother\";2;2;0;\"no\";\"yes\";\"yes\";\"yes\";\"no\";\"yes\";\"yes\";\"yes\";4;5;5;1;3;2;4;\"13\";\"11\";11\\n\"MS\";\"F\";18;\"U\";\"GT3\";\"T\";3;3;\"services\";\"services\";\"course\";\"father\";1;2;0;\"no\";\"yes\";\"no\";\"no\";\"yes\";\"yes\";\"no\";\"yes\";5;3;4;1;1;5;0;\"10\";\"9\";9\\n\"MS\";\"F\";17;\"R\";\"GT3\";\"T\";4;4;\"teacher\";\"services\";\"other\";\"father\";2;2;0;\"no\";\"yes\";\"yes\";\"yes\";\"yes\";\"yes\";\"yes\";\"no\";4;3;3;1;2;5;4;\"12\";\"13\";13\\n\"MS\";\"F\";17;\"U\";\"LE3\";\"A\";3;2;\"services\";\"other\";\"reputation\";\"mother\";2;2;0;\"no\";\"no\";\"no\";\"no\";\"yes\";\"yes\";\"no\";\"yes\";1;2;3;1;2;5;2;\"12\";\"12\";11\\n\"MS\";\"M\";18;\"U\";\"LE3\";\"T\";1;1;\"other\";\"services\";\"home\";\"father\";2;1;0;\"no\";\"no\";\"no\";\"no\";\"no\";\"yes\";\"yes\";\"yes\";3;3;2;1;2;3;4;\"10\";\"10\";10\\n\"MS\";\"F\";18;\"U\";\"LE3\";\"T\";1;1;\"at_home\";\"services\";\"course\";\"father\";2;3;0;\"no\";\"no\";\"no\";\"no\";\"yes\";\"yes\";\"yes\";\"no\";5;3;2;1;1;4;0;\"18\";\"16\";16\\n\"MS\";\"F\";18;\"R\";\"LE3\";\"A\";1;4;\"at_home\";\"other\";\"course\";\"mother\";3;2;0;\"no\";\"no\";\"no\";\"no\";\"yes\";\"yes\";\"no\";\"yes\";4;3;4;1;4;5;0;\"13\";\"13\";13\\n\"MS\";\"M\";18;\"R\";\"LE3\";\"T\";1;1;\"at_home\";\"other\";\"other\";\"mother\";2;2;1;\"no\";\"no\";\"no\";\"yes\";\"no\";\"no\";\"no\";\"no\";4;4;3;2;3;5;2;\"13\";\"12\";12\\n\"MS\";\"F\";18;\"U\";\"GT3\";\"T\";3;3;\"services\";\"services\";\"other\";\"mother\";2;2;0;\"no\";\"yes\";\"no\";\"no\";\"yes\";\"yes\";\"yes\";\"yes\";4;3;2;1;3;3;0;\"11\";\"11\";10\\n\"MS\";\"F\";17;\"U\";\"LE3\";\"T\";4;4;\"at_home\";\"at_home\";\"course\";\"mother\";1;2;0;\"no\";\"yes\";\"yes\";\"yes\";\"yes\";\"yes\";\"yes\";\"yes\";2;3;4;1;1;1;0;\"16\";\"15\";15\\n\"MS\";\"F\";17;\"R\";\"GT3\";\"T\";1;2;\"other\";\"services\";\"course\";\"father\";2;2;0;\"no\";\"no\";\"no\";\"no\";\"no\";\"yes\";\"no\";\"no\";3;2;2;1;2;3;0;\"12\";\"11\";12\\n\"MS\";\"M\";18;\"R\";\"GT3\";\"T\";1;3;\"at_home\";\"other\";\"course\";\"mother\";2;2;0;\"no\";\"yes\";\"yes\";\"no\";\"yes\";\"yes\";\"no\";\"no\";3;3;4;2;4;3;4;\"10\";\"10\";10\\n\"MS\";\"M\";18;\"U\";\"LE3\";\"T\";4;4;\"teacher\";\"services\";\"other\";\"mother\";2;3;0;\"no\";\"no\";\"yes\";\"no\";\"yes\";\"yes\";\"yes\";\"yes\";4;2;2;2;2;5;0;\"13\";\"13\";13\\n\"MS\";\"F\";17;\"R\";\"GT3\";\"T\";1;1;\"other\";\"services\";\"reputation\";\"mother\";3;1;1;\"no\";\"yes\";\"yes\";\"no\";\"yes\";\"yes\";\"yes\";\"yes\";5;2;1;1;2;1;0;\"7\";\"6\";0\\n\"MS\";\"F\";18;\"U\";\"GT3\";\"T\";2;3;\"at_home\";\"services\";\"course\";\"father\";2;1;0;\"no\";\"yes\";\"yes\";\"no\";\"yes\";\"yes\";\"yes\";\"yes\";5;2;3;1;2;4;0;\"11\";\"10\";10\\n\"MS\";\"F\";18;\"R\";\"GT3\";\"T\";4;4;\"other\";\"teacher\";\"other\";\"father\";3;2;0;\"no\";\"yes\";\"yes\";\"no\";\"no\";\"yes\";\"yes\";\"yes\";3;2;2;4;2;5;10;\"14\";\"12\";11\\n\"MS\";\"F\";19;\"U\";\"LE3\";\"T\";3;2;\"services\";\"services\";\"home\";\"other\";2;2;2;\"no\";\"no\";\"no\";\"yes\";\"yes\";\"yes\";\"no\";\"yes\";3;2;2;1;1;3;4;\"7\";\"7\";9\\n\"MS\";\"M\";18;\"R\";\"LE3\";\"T\";1;2;\"at_home\";\"services\";\"other\";\"father\";3;1;0;\"no\";\"yes\";\"yes\";\"yes\";\"yes\";\"no\";\"yes\";\"yes\";4;3;3;2;3;3;3;\"14\";\"12\";12\\n\"MS\";\"F\";17;\"U\";\"GT3\";\"T\";2;2;\"other\";\"at_home\";\"home\";\"mother\";1;3;0;\"no\";\"no\";\"no\";\"yes\";\"yes\";\"yes\";\"no\";\"yes\";3;4;3;1;1;3;8;\"13\";\"11\";11\\n\"MS\";\"F\";17;\"R\";\"GT3\";\"T\";1;2;\"other\";\"other\";\"course\";\"mother\";1;1;0;\"no\";\"no\";\"no\";\"yes\";\"yes\";\"yes\";\"yes\";\"no\";3;5;5;1;3;1;14;\"6\";\"5\";5\\n\"MS\";\"F\";18;\"R\";\"LE3\";\"T\";4;4;\"other\";\"other\";\"reputation\";\"mother\";2;3;0;\"no\";\"no\";\"no\";\"no\";\"yes\";\"yes\";\"yes\";\"no\";5;4;4;1;1;1;0;\"19\";\"18\";19\\n\"MS\";\"F\";18;\"R\";\"GT3\";\"T\";1;1;\"other\";\"other\";\"home\";\"mother\";4;3;0;\"no\";\"no\";\"no\";\"no\";\"yes\";\"yes\";\"yes\";\"no\";4;3;2;1;2;4;2;\"8\";\"8\";10\\n\"MS\";\"F\";20;\"U\";\"GT3\";\"T\";4;2;\"health\";\"other\";\"course\";\"other\";2;3;2;\"no\";\"yes\";\"yes\";\"no\";\"no\";\"yes\";\"yes\";\"yes\";5;4;3;1;1;3;4;\"15\";\"14\";15\\n\"MS\";\"F\";18;\"R\";\"LE3\";\"T\";4;4;\"teacher\";\"services\";\"course\";\"mother\";1;2;0;\"no\";\"no\";\"yes\";\"yes\";\"yes\";\"yes\";\"yes\";\"no\";5;4;3;3;4;2;4;\"8\";\"9\";10\\n\"MS\";\"F\";18;\"U\";\"GT3\";\"T\";3;3;\"other\";\"other\";\"home\";\"mother\";1;2;0;\"no\";\"no\";\"yes\";\"no\";\"yes\";\"yes\";\"yes\";\"yes\";4;1;3;1;2;1;0;\"15\";\"15\";15\\n\"MS\";\"F\";17;\"R\";\"GT3\";\"T\";3;1;\"at_home\";\"other\";\"reputation\";\"mother\";1;2;0;\"no\";\"yes\";\"yes\";\"yes\";\"no\";\"yes\";\"yes\";\"no\";4;5;4;2;3;1;17;\"10\";\"10\";10\\n\"MS\";\"M\";18;\"U\";\"GT3\";\"T\";4;4;\"teacher\";\"teacher\";\"home\";\"father\";1;2;0;\"no\";\"no\";\"yes\";\"yes\";\"no\";\"yes\";\"yes\";\"no\";3;2;4;1;4;2;4;\"15\";\"14\";14\\n\"MS\";\"M\";18;\"R\";\"GT3\";\"T\";2;1;\"other\";\"other\";\"other\";\"mother\";2;1;0;\"no\";\"no\";\"no\";\"yes\";\"no\";\"yes\";\"yes\";\"yes\";4;4;3;1;3;5;5;\"7\";\"6\";7\\n\"MS\";\"M\";17;\"U\";\"GT3\";\"T\";2;3;\"other\";\"services\";\"home\";\"father\";2;2;0;\"no\";\"no\";\"no\";\"yes\";\"yes\";\"yes\";\"yes\";\"no\";4;4;3;1;1;3;2;\"11\";\"11\";10\\n\"MS\";\"M\";19;\"R\";\"GT3\";\"T\";1;1;\"other\";\"services\";\"other\";\"mother\";2;1;1;\"no\";\"no\";\"no\";\"no\";\"yes\";\"yes\";\"no\";\"no\";4;3;2;1;3;5;0;\"6\";\"5\";0\\n\"MS\";\"M\";18;\"R\";\"GT3\";\"T\";4;2;\"other\";\"other\";\"home\";\"father\";2;1;1;\"no\";\"no\";\"yes\";\"no\";\"yes\";\"yes\";\"no\";\"no\";5;4;3;4;3;3;14;\"6\";\"5\";5\\n\"MS\";\"F\";18;\"R\";\"GT3\";\"T\";2;2;\"at_home\";\"other\";\"other\";\"mother\";2;3;0;\"no\";\"no\";\"yes\";\"no\";\"yes\";\"yes\";\"no\";\"no\";5;3;3;1;3;4;2;\"10\";\"9\";10\\n\"MS\";\"F\";18;\"R\";\"GT3\";\"T\";4;4;\"teacher\";\"at_home\";\"reputation\";\"mother\";3;1;0;\"no\";\"yes\";\"yes\";\"yes\";\"yes\";\"yes\";\"yes\";\"yes\";4;4;3;2;2;5;7;\"6\";\"5\";6\\n\"MS\";\"F\";19;\"R\";\"GT3\";\"T\";2;3;\"services\";\"other\";\"course\";\"mother\";1;3;1;\"no\";\"no\";\"no\";\"yes\";\"no\";\"yes\";\"yes\";\"no\";5;4;2;1;2;5;0;\"7\";\"5\";0\\n\"MS\";\"F\";18;\"U\";\"LE3\";\"T\";3;1;\"teacher\";\"services\";\"course\";\"mother\";1;2;0;\"no\";\"yes\";\"yes\";\"no\";\"yes\";\"yes\";\"yes\";\"no\";4;3;4;1;1;1;0;\"7\";\"9\";8\\n\"MS\";\"F\";18;\"U\";\"GT3\";\"T\";1;1;\"other\";\"other\";\"course\";\"mother\";2;2;1;\"no\";\"no\";\"no\";\"yes\";\"yes\";\"yes\";\"no\";\"no\";1;1;1;1;1;5;0;\"6\";\"5\";0\\n\"MS\";\"M\";20;\"U\";\"LE3\";\"A\";2;2;\"services\";\"services\";\"course\";\"other\";1;2;2;\"no\";\"yes\";\"yes\";\"no\";\"yes\";\"yes\";\"no\";\"no\";5;5;4;4;5;4;11;\"9\";\"9\";9\\n\"MS\";\"M\";17;\"U\";\"LE3\";\"T\";3;1;\"services\";\"services\";\"course\";\"mother\";2;1;0;\"no\";\"no\";\"no\";\"no\";\"no\";\"yes\";\"yes\";\"no\";2;4;5;3;4;2;3;\"14\";\"16\";16\\n\"MS\";\"M\";21;\"R\";\"GT3\";\"T\";1;1;\"other\";\"other\";\"course\";\"other\";1;1;3;\"no\";\"no\";\"no\";\"no\";\"no\";\"yes\";\"no\";\"no\";5;5;3;3;3;3;3;\"10\";\"8\";7\\n\"MS\";\"M\";18;\"R\";\"LE3\";\"T\";3;2;\"services\";\"other\";\"course\";\"mother\";3;1;0;\"no\";\"no\";\"no\";\"no\";\"no\";\"yes\";\"yes\";\"no\";4;4;1;3;4;5;0;\"11\";\"12\";10\\n\"MS\";\"M\";19;\"U\";\"LE3\";\"T\";1;1;\"other\";\"at_home\";\"course\";\"father\";1;1;0;\"no\";\"no\";\"no\";\"no\";\"yes\";\"yes\";\"yes\";\"no\";3;2;3;3;3;5;5;\"8\";\"9\";9\\n'}"
            ]
          },
          "metadata": {
            "tags": []
          },
          "execution_count": 1
        }
      ]
    },
    {
      "cell_type": "code",
      "metadata": {
        "id": "Cdm3PB4rAClH"
      },
      "source": [
        "import pandas as pd\n",
        "import numpy as np\n",
        "import matplotlib.pyplot as plt"
      ],
      "execution_count": null,
      "outputs": []
    },
    {
      "cell_type": "code",
      "metadata": {
        "id": "9qzwbIEcAToN"
      },
      "source": [
        "dataset = pd.read_csv('student-mat.csv',sep = ';')"
      ],
      "execution_count": null,
      "outputs": []
    },
    {
      "cell_type": "code",
      "metadata": {
        "id": "asQ3dSsQAbAX",
        "outputId": "8248b179-614f-4956-822b-a693ae105d23",
        "colab": {
          "base_uri": "https://localhost:8080/",
          "height": 34
        }
      },
      "source": [
        "dataset.shape"
      ],
      "execution_count": null,
      "outputs": [
        {
          "output_type": "execute_result",
          "data": {
            "text/plain": [
              "(395, 33)"
            ]
          },
          "metadata": {
            "tags": []
          },
          "execution_count": 4
        }
      ]
    },
    {
      "cell_type": "code",
      "metadata": {
        "id": "nwo3C1NTAhSY",
        "outputId": "b3e5129c-bec5-4233-d520-c623b6c06bf7",
        "colab": {
          "base_uri": "https://localhost:8080/",
          "height": 224
        }
      },
      "source": [
        "dataset.head()"
      ],
      "execution_count": null,
      "outputs": [
        {
          "output_type": "execute_result",
          "data": {
            "text/html": [
              "<div>\n",
              "<style scoped>\n",
              "    .dataframe tbody tr th:only-of-type {\n",
              "        vertical-align: middle;\n",
              "    }\n",
              "\n",
              "    .dataframe tbody tr th {\n",
              "        vertical-align: top;\n",
              "    }\n",
              "\n",
              "    .dataframe thead th {\n",
              "        text-align: right;\n",
              "    }\n",
              "</style>\n",
              "<table border=\"1\" class=\"dataframe\">\n",
              "  <thead>\n",
              "    <tr style=\"text-align: right;\">\n",
              "      <th></th>\n",
              "      <th>school</th>\n",
              "      <th>sex</th>\n",
              "      <th>age</th>\n",
              "      <th>address</th>\n",
              "      <th>famsize</th>\n",
              "      <th>Pstatus</th>\n",
              "      <th>Medu</th>\n",
              "      <th>Fedu</th>\n",
              "      <th>Mjob</th>\n",
              "      <th>Fjob</th>\n",
              "      <th>reason</th>\n",
              "      <th>guardian</th>\n",
              "      <th>traveltime</th>\n",
              "      <th>studytime</th>\n",
              "      <th>failures</th>\n",
              "      <th>schoolsup</th>\n",
              "      <th>famsup</th>\n",
              "      <th>paid</th>\n",
              "      <th>activities</th>\n",
              "      <th>nursery</th>\n",
              "      <th>higher</th>\n",
              "      <th>internet</th>\n",
              "      <th>romantic</th>\n",
              "      <th>famrel</th>\n",
              "      <th>freetime</th>\n",
              "      <th>goout</th>\n",
              "      <th>Dalc</th>\n",
              "      <th>Walc</th>\n",
              "      <th>health</th>\n",
              "      <th>absences</th>\n",
              "      <th>G1</th>\n",
              "      <th>G2</th>\n",
              "      <th>G3</th>\n",
              "    </tr>\n",
              "  </thead>\n",
              "  <tbody>\n",
              "    <tr>\n",
              "      <th>0</th>\n",
              "      <td>GP</td>\n",
              "      <td>F</td>\n",
              "      <td>18</td>\n",
              "      <td>U</td>\n",
              "      <td>GT3</td>\n",
              "      <td>A</td>\n",
              "      <td>4</td>\n",
              "      <td>4</td>\n",
              "      <td>at_home</td>\n",
              "      <td>teacher</td>\n",
              "      <td>course</td>\n",
              "      <td>mother</td>\n",
              "      <td>2</td>\n",
              "      <td>2</td>\n",
              "      <td>0</td>\n",
              "      <td>yes</td>\n",
              "      <td>no</td>\n",
              "      <td>no</td>\n",
              "      <td>no</td>\n",
              "      <td>yes</td>\n",
              "      <td>yes</td>\n",
              "      <td>no</td>\n",
              "      <td>no</td>\n",
              "      <td>4</td>\n",
              "      <td>3</td>\n",
              "      <td>4</td>\n",
              "      <td>1</td>\n",
              "      <td>1</td>\n",
              "      <td>3</td>\n",
              "      <td>6</td>\n",
              "      <td>5</td>\n",
              "      <td>6</td>\n",
              "      <td>6</td>\n",
              "    </tr>\n",
              "    <tr>\n",
              "      <th>1</th>\n",
              "      <td>GP</td>\n",
              "      <td>F</td>\n",
              "      <td>17</td>\n",
              "      <td>U</td>\n",
              "      <td>GT3</td>\n",
              "      <td>T</td>\n",
              "      <td>1</td>\n",
              "      <td>1</td>\n",
              "      <td>at_home</td>\n",
              "      <td>other</td>\n",
              "      <td>course</td>\n",
              "      <td>father</td>\n",
              "      <td>1</td>\n",
              "      <td>2</td>\n",
              "      <td>0</td>\n",
              "      <td>no</td>\n",
              "      <td>yes</td>\n",
              "      <td>no</td>\n",
              "      <td>no</td>\n",
              "      <td>no</td>\n",
              "      <td>yes</td>\n",
              "      <td>yes</td>\n",
              "      <td>no</td>\n",
              "      <td>5</td>\n",
              "      <td>3</td>\n",
              "      <td>3</td>\n",
              "      <td>1</td>\n",
              "      <td>1</td>\n",
              "      <td>3</td>\n",
              "      <td>4</td>\n",
              "      <td>5</td>\n",
              "      <td>5</td>\n",
              "      <td>6</td>\n",
              "    </tr>\n",
              "    <tr>\n",
              "      <th>2</th>\n",
              "      <td>GP</td>\n",
              "      <td>F</td>\n",
              "      <td>15</td>\n",
              "      <td>U</td>\n",
              "      <td>LE3</td>\n",
              "      <td>T</td>\n",
              "      <td>1</td>\n",
              "      <td>1</td>\n",
              "      <td>at_home</td>\n",
              "      <td>other</td>\n",
              "      <td>other</td>\n",
              "      <td>mother</td>\n",
              "      <td>1</td>\n",
              "      <td>2</td>\n",
              "      <td>3</td>\n",
              "      <td>yes</td>\n",
              "      <td>no</td>\n",
              "      <td>yes</td>\n",
              "      <td>no</td>\n",
              "      <td>yes</td>\n",
              "      <td>yes</td>\n",
              "      <td>yes</td>\n",
              "      <td>no</td>\n",
              "      <td>4</td>\n",
              "      <td>3</td>\n",
              "      <td>2</td>\n",
              "      <td>2</td>\n",
              "      <td>3</td>\n",
              "      <td>3</td>\n",
              "      <td>10</td>\n",
              "      <td>7</td>\n",
              "      <td>8</td>\n",
              "      <td>10</td>\n",
              "    </tr>\n",
              "    <tr>\n",
              "      <th>3</th>\n",
              "      <td>GP</td>\n",
              "      <td>F</td>\n",
              "      <td>15</td>\n",
              "      <td>U</td>\n",
              "      <td>GT3</td>\n",
              "      <td>T</td>\n",
              "      <td>4</td>\n",
              "      <td>2</td>\n",
              "      <td>health</td>\n",
              "      <td>services</td>\n",
              "      <td>home</td>\n",
              "      <td>mother</td>\n",
              "      <td>1</td>\n",
              "      <td>3</td>\n",
              "      <td>0</td>\n",
              "      <td>no</td>\n",
              "      <td>yes</td>\n",
              "      <td>yes</td>\n",
              "      <td>yes</td>\n",
              "      <td>yes</td>\n",
              "      <td>yes</td>\n",
              "      <td>yes</td>\n",
              "      <td>yes</td>\n",
              "      <td>3</td>\n",
              "      <td>2</td>\n",
              "      <td>2</td>\n",
              "      <td>1</td>\n",
              "      <td>1</td>\n",
              "      <td>5</td>\n",
              "      <td>2</td>\n",
              "      <td>15</td>\n",
              "      <td>14</td>\n",
              "      <td>15</td>\n",
              "    </tr>\n",
              "    <tr>\n",
              "      <th>4</th>\n",
              "      <td>GP</td>\n",
              "      <td>F</td>\n",
              "      <td>16</td>\n",
              "      <td>U</td>\n",
              "      <td>GT3</td>\n",
              "      <td>T</td>\n",
              "      <td>3</td>\n",
              "      <td>3</td>\n",
              "      <td>other</td>\n",
              "      <td>other</td>\n",
              "      <td>home</td>\n",
              "      <td>father</td>\n",
              "      <td>1</td>\n",
              "      <td>2</td>\n",
              "      <td>0</td>\n",
              "      <td>no</td>\n",
              "      <td>yes</td>\n",
              "      <td>yes</td>\n",
              "      <td>no</td>\n",
              "      <td>yes</td>\n",
              "      <td>yes</td>\n",
              "      <td>no</td>\n",
              "      <td>no</td>\n",
              "      <td>4</td>\n",
              "      <td>3</td>\n",
              "      <td>2</td>\n",
              "      <td>1</td>\n",
              "      <td>2</td>\n",
              "      <td>5</td>\n",
              "      <td>4</td>\n",
              "      <td>6</td>\n",
              "      <td>10</td>\n",
              "      <td>10</td>\n",
              "    </tr>\n",
              "  </tbody>\n",
              "</table>\n",
              "</div>"
            ],
            "text/plain": [
              "  school sex  age address famsize Pstatus  ...  Walc  health absences  G1  G2  G3\n",
              "0     GP   F   18       U     GT3       A  ...     1       3        6   5   6   6\n",
              "1     GP   F   17       U     GT3       T  ...     1       3        4   5   5   6\n",
              "2     GP   F   15       U     LE3       T  ...     3       3       10   7   8  10\n",
              "3     GP   F   15       U     GT3       T  ...     1       5        2  15  14  15\n",
              "4     GP   F   16       U     GT3       T  ...     2       5        4   6  10  10\n",
              "\n",
              "[5 rows x 33 columns]"
            ]
          },
          "metadata": {
            "tags": []
          },
          "execution_count": 5
        }
      ]
    },
    {
      "cell_type": "code",
      "metadata": {
        "id": "YKqNLyO4AjVy"
      },
      "source": [
        "dataset = dataset[['G1','G2','G3','studytime','failures','absences']]"
      ],
      "execution_count": 6,
      "outputs": []
    },
    {
      "cell_type": "code",
      "metadata": {
        "id": "9RITHs7SoSqU",
        "outputId": "33dc55c6-b4e5-4635-9ca4-3feb5054d40a",
        "colab": {
          "base_uri": "https://localhost:8080/",
          "height": 34
        }
      },
      "source": [
        "dataset.shape"
      ],
      "execution_count": 7,
      "outputs": [
        {
          "output_type": "execute_result",
          "data": {
            "text/plain": [
              "(395, 6)"
            ]
          },
          "metadata": {
            "tags": []
          },
          "execution_count": 7
        }
      ]
    },
    {
      "cell_type": "code",
      "metadata": {
        "id": "QorIP3UHoUqt",
        "outputId": "9b52b493-525e-4d66-f26f-de9ea30118bf",
        "colab": {
          "base_uri": "https://localhost:8080/",
          "height": 136
        }
      },
      "source": [
        "dataset.isna().sum()"
      ],
      "execution_count": 8,
      "outputs": [
        {
          "output_type": "execute_result",
          "data": {
            "text/plain": [
              "G1           0\n",
              "G2           0\n",
              "G3           0\n",
              "studytime    0\n",
              "failures     0\n",
              "absences     0\n",
              "dtype: int64"
            ]
          },
          "metadata": {
            "tags": []
          },
          "execution_count": 8
        }
      ]
    },
    {
      "cell_type": "code",
      "metadata": {
        "id": "gUqU9TwQoXPk"
      },
      "source": [
        "dataset.drop_duplicates(inplace = True)"
      ],
      "execution_count": 9,
      "outputs": []
    },
    {
      "cell_type": "code",
      "metadata": {
        "id": "_SOTzLS9obGa",
        "outputId": "7b76d711-fc94-486d-d561-bf5195c40cfd",
        "colab": {
          "base_uri": "https://localhost:8080/",
          "height": 34
        }
      },
      "source": [
        "dataset.shape"
      ],
      "execution_count": 10,
      "outputs": [
        {
          "output_type": "execute_result",
          "data": {
            "text/plain": [
              "(380, 6)"
            ]
          },
          "metadata": {
            "tags": []
          },
          "execution_count": 10
        }
      ]
    },
    {
      "cell_type": "code",
      "metadata": {
        "id": "JfIkosZ5ob8U"
      },
      "source": [
        "predict = 'G3'"
      ],
      "execution_count": 11,
      "outputs": []
    },
    {
      "cell_type": "code",
      "metadata": {
        "id": "17Gc6uDboh71"
      },
      "source": [
        "X = np.array(dataset.drop([predict], axis = 1))"
      ],
      "execution_count": 13,
      "outputs": []
    },
    {
      "cell_type": "code",
      "metadata": {
        "id": "-EJJ3QZTom7A"
      },
      "source": [
        "Y = np.array(dataset[predict])"
      ],
      "execution_count": 14,
      "outputs": []
    },
    {
      "cell_type": "code",
      "metadata": {
        "id": "IWCyV8JFosEM"
      },
      "source": [
        "from sklearn import linear_model\n",
        "from sklearn import model_selection"
      ],
      "execution_count": 15,
      "outputs": []
    },
    {
      "cell_type": "code",
      "metadata": {
        "id": "QWMxITNko3ub"
      },
      "source": [
        "x_train, x_test, y_train, y_test = model_selection.train_test_split(X,Y,test_size = 0.2)"
      ],
      "execution_count": 16,
      "outputs": []
    },
    {
      "cell_type": "code",
      "metadata": {
        "id": "6f_go4YmpEJ6",
        "outputId": "4f33ccfd-bdfe-46ac-8e48-df9e986b27e5",
        "colab": {
          "base_uri": "https://localhost:8080/",
          "height": 54
        }
      },
      "source": [
        "linear = linear_model.LinearRegression()\n",
        "linear.fit(x_train,y_train)"
      ],
      "execution_count": 17,
      "outputs": [
        {
          "output_type": "execute_result",
          "data": {
            "text/plain": [
              "LinearRegression(copy_X=True, fit_intercept=True, n_jobs=None, normalize=False)"
            ]
          },
          "metadata": {
            "tags": []
          },
          "execution_count": 17
        }
      ]
    },
    {
      "cell_type": "code",
      "metadata": {
        "id": "rdBiMSDspLR7"
      },
      "source": [
        "acc = linear.score(x_test,y_test)"
      ],
      "execution_count": 18,
      "outputs": []
    },
    {
      "cell_type": "code",
      "metadata": {
        "id": "EANiJHxtpPUu",
        "outputId": "6fc3ecd1-5d5c-4f2e-8249-ececd6dbe479",
        "colab": {
          "base_uri": "https://localhost:8080/",
          "height": 34
        }
      },
      "source": [
        "print(acc)"
      ],
      "execution_count": 19,
      "outputs": [
        {
          "output_type": "stream",
          "text": [
            "0.8010381225774124\n"
          ],
          "name": "stdout"
        }
      ]
    },
    {
      "cell_type": "code",
      "metadata": {
        "id": "-FTArDT5pQhT"
      },
      "source": [
        "import pickle\n",
        "from matplotlib import style"
      ],
      "execution_count": 20,
      "outputs": []
    },
    {
      "cell_type": "code",
      "metadata": {
        "id": "wYv3sSPSpYFJ",
        "outputId": "917b9c74-cb40-4f68-b15a-7169fbdaea27",
        "colab": {
          "base_uri": "https://localhost:8080/",
          "height": 85
        }
      },
      "source": [
        "print(\"Coefficient: \\n\",linear.coef_)\n",
        "print(\"Intercept:'\\n\",linear.intercept_)"
      ],
      "execution_count": 21,
      "outputs": [
        {
          "output_type": "stream",
          "text": [
            "Coefficient: \n",
            " [ 0.14256007  0.96577924 -0.1338839  -0.38456409  0.02692497]\n",
            "Intercept:'\n",
            " -1.1735671392822624\n"
          ],
          "name": "stdout"
        }
      ]
    },
    {
      "cell_type": "code",
      "metadata": {
        "id": "IYsSxnKApl2l"
      },
      "source": [
        "with open(\"studentmodel.pickle\",\"wb\") as f:\n",
        "  pickle.dump(linear,f)"
      ],
      "execution_count": 22,
      "outputs": []
    },
    {
      "cell_type": "code",
      "metadata": {
        "id": "EFDYUisvpxLD"
      },
      "source": [
        "pickle_in = open(\"studentmodel.pickle\",\"rb\")"
      ],
      "execution_count": 23,
      "outputs": []
    },
    {
      "cell_type": "code",
      "metadata": {
        "id": "ljBZZerkp-kz"
      },
      "source": [
        "linear = pickle.load(pickle_in)"
      ],
      "execution_count": 24,
      "outputs": []
    },
    {
      "cell_type": "code",
      "metadata": {
        "id": "OSMJ2QjIqEgf"
      },
      "source": [
        "predictions = linear.predict(x_test)"
      ],
      "execution_count": 26,
      "outputs": []
    },
    {
      "cell_type": "code",
      "metadata": {
        "id": "0ytvMGBJqQJm",
        "outputId": "3993d59e-a15c-4954-aae2-ad0f248bf763",
        "colab": {
          "base_uri": "https://localhost:8080/",
          "height": 527
        }
      },
      "source": [
        "best = 0\n",
        "for _ in range(30):\n",
        "  x_train, x_test, y_train, y_test = model_selection.train_test_split(X,Y,test_size = 0.2)\n",
        "  linear = linear_model.LinearRegression()\n",
        "  linear.fit(x_train,y_train)\n",
        "  acc = linear.score(x_test,y_test)\n",
        "  print(acc)\n",
        "\n",
        "  if acc > best:\n",
        "    best = acc\n",
        "    with open(\"studentmodel.pickle\",\"wb\") as f:\n",
        "      pickle.dump(linear,f)"
      ],
      "execution_count": 31,
      "outputs": [
        {
          "output_type": "stream",
          "text": [
            "0.7944878507543859\n",
            "0.8491084672777816\n",
            "0.8677294312978858\n",
            "0.8044232132903582\n",
            "0.677155322955785\n",
            "0.8711553647281722\n",
            "0.8073166985005474\n",
            "0.7915281663822135\n",
            "0.7584514253952088\n",
            "0.8250085411544167\n",
            "0.9060882010266091\n",
            "0.801466298696138\n",
            "0.8473416083292922\n",
            "0.818286581955405\n",
            "0.8324737680133911\n",
            "0.8407329525365899\n",
            "0.8326782798418906\n",
            "0.8162065518700828\n",
            "0.8345192045921654\n",
            "0.7627088742477067\n",
            "0.8280492473487939\n",
            "0.7700494468259029\n",
            "0.8435736057010259\n",
            "0.8468590759106476\n",
            "0.8187492726105058\n",
            "0.7213635055966316\n",
            "0.7990715897767692\n",
            "0.8155379053181511\n",
            "0.7550264919374667\n",
            "0.8930743978957557\n"
          ],
          "name": "stdout"
        }
      ]
    },
    {
      "cell_type": "code",
      "metadata": {
        "id": "NnDowluZrKls",
        "outputId": "4860b513-36a0-480f-fc85-70400238de63",
        "colab": {
          "base_uri": "https://localhost:8080/",
          "height": 282
        }
      },
      "source": [
        "p = 'G1'\n",
        "style.use(\"ggplot\")\n",
        "plt.scatter(dataset[p],dataset['G3'])\n",
        "plt.xlabel(p)\n",
        "plt.ylabel(\"Final Grade\")\n",
        "plt.show()"
      ],
      "execution_count": 34,
      "outputs": [
        {
          "output_type": "display_data",
          "data": {
            "image/png": "[encoded data removed]",
            "text/plain": [
              "<Figure size 432x288 with 1 Axes>"
            ]
          },
          "metadata": {
            "tags": []
          }
        }
      ]
    },
    {
      "cell_type": "code",
      "metadata": {
        "id": "TraxhROlsDFh"
      },
      "source": [
        ""
      ],
      "execution_count": null,
      "outputs": []
    }
  ]
}